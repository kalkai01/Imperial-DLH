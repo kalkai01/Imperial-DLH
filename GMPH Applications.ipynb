{
 "cells": [
  {
   "cell_type": "markdown",
   "metadata": {
    "extensions": {
     "jupyter_dashboards": {
      "version": 1,
      "views": {
       "grid_default": {
        "col": 0,
        "height": 4,
        "hidden": false,
        "row": 0,
        "width": 4
       },
       "report_default": {
        "hidden": false
       }
      }
     }
    }
   },
   "source": [
    "# GMPH User Analysis\n"
   ]
  },
  {
   "cell_type": "code",
   "execution_count": 1,
   "metadata": {
    "extensions": {
     "jupyter_dashboards": {
      "version": 1,
      "views": {
       "grid_default": {
        "hidden": true
       },
       "report_default": {
        "hidden": true
       }
      }
     }
    }
   },
   "outputs": [
    {
     "data": {
      "text/html": [
       "<script>jQuery(function() {if (jQuery(\"body.notebook_app\").length == 0) { jQuery(\".input_area\").toggle(); jQuery(\".prompt\").toggle();}});</script>"
      ]
     },
     "metadata": {},
     "output_type": "display_data"
    },
    {
     "data": {
      "text/html": [
       "<button onclick=\"jQuery('.input_area').toggle(); jQuery('.prompt').toggle();\">Show / Hide Code</button>"
      ]
     },
     "metadata": {},
     "output_type": "display_data"
    },
    {
     "data": {
      "text/html": [
       "<script>requirejs.config({paths: { 'plotly': ['https://cdn.plot.ly/plotly-latest.min']},});if(!window.Plotly) {{require(['plotly'],function(plotly) {window.Plotly=plotly;});}}</script>"
      ],
      "text/vnd.plotly.v1+html": [
       "<script>requirejs.config({paths: { 'plotly': ['https://cdn.plot.ly/plotly-latest.min']},});if(!window.Plotly) {{require(['plotly'],function(plotly) {window.Plotly=plotly;});}}</script>"
      ]
     },
     "metadata": {},
     "output_type": "display_data"
    }
   ],
   "source": [
    "from datetime import datetime as dt\n",
    "time = dt.now\n",
    "import numpy as np\n",
    "import pandas as pd\n",
    "import matplotlib as plt\n",
    "import plotly.offline as py\n",
    "import plotly.graph_objs as go\n",
    "\n",
    "import IPython.core.display as di\n",
    "\n",
    "# This line will hide code by default when the notebook is exported as HTML\n",
    "di.display_html('<script>jQuery(function() {if (jQuery(\"body.notebook_app\").length == 0) { jQuery(\".input_area\").toggle(); jQuery(\".prompt\").toggle();}});</script>', raw=True)\n",
    "\n",
    "# This line will add a button to toggle visibility of code blocks, for use with the HTML export version\n",
    "di.display_html('''<button onclick=\"jQuery('.input_area').toggle(); jQuery('.prompt').toggle();\">Show / Hide Code</button>''', raw=True)\n",
    "\n",
    "\n",
    "py.init_notebook_mode(connected=True)\n"
   ]
  },
  {
   "cell_type": "code",
   "execution_count": 63,
   "metadata": {
    "extensions": {
     "jupyter_dashboards": {
      "version": 1,
      "views": {
       "grid_default": {
        "hidden": true
       },
       "report_default": {
        "hidden": true
       }
      }
     }
    },
    "scrolled": false
   },
   "outputs": [],
   "source": [
    "apps = pd.read_csv('../Data/170419_GMPH_applications.csv',  encoding='latin-1')"
   ]
  },
  {
   "cell_type": "code",
   "execution_count": 64,
   "metadata": {
    "extensions": {
     "jupyter_dashboards": {
      "version": 1,
      "views": {
       "grid_default": {
        "col": 4,
        "height": 58,
        "hidden": false,
        "row": 0,
        "width": 4
       },
       "report_default": {
        "hidden": false
       }
      }
     }
    }
   },
   "outputs": [
    {
     "name": "stdout",
     "output_type": "stream",
     "text": [
      "249 submitted applications from 69 countries, 22 offered a conditional place.\n"
     ]
    }
   ],
   "source": [
    "accepted = apps[apps['Status'] == 'Condition Pending']\n",
    "submitted = apps[apps['Application Status'].isin(['Submitted', 'Marked Complete'])]\n",
    "\n",
    "total = apps['Reference Number'].nunique()\n",
    "totalaccept = accepted['Reference Number'].nunique()\n",
    "totalsubmitted = submitted['Reference Number'].nunique()\n",
    "\n",
    "totalcountries = apps['alpha-3'].nunique()\n",
    "acceptcountries = accepted['alpha-3'].nunique()\n",
    "\n",
    "print(str(totalsubmitted) + ' submitted applications from ' + str(totalcountries) + ' countries, ' + str(totalaccept) + ' offered a conditional place.'  )\n"
   ]
  },
  {
   "cell_type": "code",
   "execution_count": 58,
   "metadata": {
    "extensions": {
     "jupyter_dashboards": {
      "version": 1,
      "views": {
       "grid_default": {
        "hidden": true
       },
       "report_default": {
        "hidden": true
       }
      }
     }
    }
   },
   "outputs": [],
   "source": [
    "def countries (df, column, divide_by=total):\n",
    "    \n",
    "    df1 = df.groupby('alpha-3').count()\n",
    "\n",
    "    data = [dict(\n",
    "            type = 'choropleth',\n",
    "            locations = df1.index.values,\n",
    "            z = df1[column],\n",
    "            text = round((df1[column]/divide_by)*100, 2),\n",
    "            colorscale = [[0,\"rgb(5, 10, 172)\"],[0.35,\"rgb(40, 60, 190)\"],[0.5,\"rgb(70, 100, 245)\"],\\\n",
    "                [0.6,\"rgb(90, 120, 245)\"],[0.7,\"rgb(95, 130, 247)\"],[1,\"rgb(106, 137, 247)\"]],\n",
    "            autocolorscale = False,\n",
    "            reversescale = True,\n",
    "            marker = dict(\n",
    "                line = dict (\n",
    "                    color = 'rgb(180,180,180)',\n",
    "                    width = 0.5\n",
    "                ) )\n",
    "          ) ]\n",
    "\n",
    "    layout = dict(\n",
    "        width = 1000,\n",
    "        height =  1000,\n",
    "        geo = dict(\n",
    "            showframe = False,\n",
    "            showcoastlines = False,\n",
    "            projection = dict(\n",
    "                type = 'mercator'\n",
    "            )\n",
    "        )\n",
    "    )\n",
    "\n",
    "    fig = dict( data=data, layout=layout )\n",
    "    plot = py.iplot(fig)\n",
    "    \n",
    "    return plot\n",
    "\n"
   ]
  },
  {
   "cell_type": "markdown",
   "metadata": {},
   "source": [
    "# We've recieved over 500 applications from over 60 countries, 249 of these have been submitted\n",
    "\n",
    "### Hover to see total number of submissions per country (top) and as a percentage of all submissions\n"
   ]
  },
  {
   "cell_type": "code",
   "execution_count": 59,
   "metadata": {
    "collapsed": true,
    "extensions": {
     "jupyter_dashboards": {
      "version": 1,
      "views": {
       "grid_default": {
        "col": 8,
        "height": 19,
        "hidden": false,
        "row": 0,
        "width": 4
       },
       "report_default": {
        "hidden": false
       }
      }
     }
    }
   },
   "outputs": [
    {
     "data": {
      "application/vnd.plotly.v1+json": {
       "data": [
        {
         "autocolorscale": false,
         "colorscale": [
          [
           0,
           "rgb(5, 10, 172)"
          ],
          [
           0.35,
           "rgb(40, 60, 190)"
          ],
          [
           0.5,
           "rgb(70, 100, 245)"
          ],
          [
           0.6,
           "rgb(90, 120, 245)"
          ],
          [
           0.7,
           "rgb(95, 130, 247)"
          ],
          [
           1,
           "rgb(106, 137, 247)"
          ]
         ],
         "locations": [
          "ARE",
          "AUS",
          "AUT",
          "BEL",
          "BFA",
          "BGD",
          "BGR",
          "BRA",
          "BWA",
          "CAN",
          "CHE",
          "CHN",
          "CMR",
          "COD",
          "COG",
          "COL",
          "CYP",
          "DEU",
          "DNK",
          "ECU",
          "EGY",
          "ERI",
          "ETH",
          "FRA",
          "GAB",
          "GBR",
          "GHA",
          "GMB",
          "GRC",
          "GTM",
          "HKG",
          "HND",
          "IDN",
          "IND",
          "IRL",
          "ISR",
          "ITA",
          "JPN",
          "KEN",
          "LBN",
          "MEX",
          "MMR",
          "MWI",
          "MYS",
          "NGA",
          "NPL",
          "PAK",
          "PER",
          "PHL",
          "RUS",
          "RWA",
          "SDN",
          "SGP",
          "SLE",
          "SOM",
          "SSD",
          "SWZ",
          "THA",
          "TTO",
          "TZA",
          "UGA",
          "USA",
          "YEM",
          "ZAF",
          "ZMB",
          "ZWE"
         ],
         "marker": {
          "line": {
           "color": "rgb(180,180,180)",
           "width": 0.5
          }
         },
         "reversescale": true,
         "text": [
          "0.8",
          "1.61",
          "0.8",
          "1.2",
          "0.4",
          "1.2",
          "0.4",
          "2.41",
          "0.4",
          "2.81",
          "1.2",
          "3.21",
          "0.8",
          "0.4",
          "0.4",
          "1.61",
          "0.4",
          "1.2",
          "1.2",
          "0.4",
          "0.8",
          "0.4",
          "0.8",
          "2.01",
          "0.4",
          "8.43",
          "1.61",
          "0.4",
          "0.8",
          "0.8",
          "1.2",
          "0.4",
          "1.61",
          "4.42",
          "1.2",
          "0.4",
          "0.4",
          "1.61",
          "2.41",
          "0.8",
          "1.61",
          "0.4",
          "1.2",
          "0.4",
          "6.83",
          "0.8",
          "2.81",
          "0.4",
          "1.2",
          "0.8",
          "0.8",
          "0.4",
          "2.01",
          "0.4",
          "0.4",
          "0.8",
          "0.4",
          "0.4",
          "0.4",
          "1.2",
          "1.61",
          "15.26",
          "0.4",
          "1.61",
          "2.41",
          "0.8"
         ],
         "type": "choropleth",
         "uid": "071dd346-610f-11e9-bf32-b4b68690f880",
         "z": [
          2,
          4,
          2,
          3,
          1,
          3,
          1,
          6,
          1,
          7,
          3,
          8,
          2,
          1,
          1,
          4,
          1,
          3,
          3,
          1,
          2,
          1,
          2,
          5,
          1,
          21,
          4,
          1,
          2,
          2,
          3,
          1,
          4,
          11,
          3,
          1,
          1,
          4,
          6,
          2,
          4,
          1,
          3,
          1,
          17,
          2,
          7,
          1,
          3,
          2,
          2,
          1,
          5,
          1,
          1,
          2,
          1,
          1,
          1,
          3,
          4,
          38,
          1,
          4,
          6,
          2
         ]
        }
       ],
       "layout": {
        "geo": {
         "projection": {
          "type": "mercator"
         },
         "showcoastlines": false,
         "showframe": false
        },
        "height": 1000,
        "width": 1000
       }
      },
      "text/html": [
       "<div id=\"eebff5f9-8593-437e-adb0-48c790238ec2\" style=\"height: 1000px; width: 1000px;\" class=\"plotly-graph-div\"></div><script type=\"text/javascript\">require([\"plotly\"], function(Plotly) { window.PLOTLYENV=window.PLOTLYENV || {};window.PLOTLYENV.BASE_URL=\"https://plot.ly\";Plotly.newPlot(\"eebff5f9-8593-437e-adb0-48c790238ec2\", [{\"autocolorscale\": false, \"colorscale\": [[0, \"rgb(5, 10, 172)\"], [0.35, \"rgb(40, 60, 190)\"], [0.5, \"rgb(70, 100, 245)\"], [0.6, \"rgb(90, 120, 245)\"], [0.7, \"rgb(95, 130, 247)\"], [1, \"rgb(106, 137, 247)\"]], \"locations\": [\"ARE\", \"AUS\", \"AUT\", \"BEL\", \"BFA\", \"BGD\", \"BGR\", \"BRA\", \"BWA\", \"CAN\", \"CHE\", \"CHN\", \"CMR\", \"COD\", \"COG\", \"COL\", \"CYP\", \"DEU\", \"DNK\", \"ECU\", \"EGY\", \"ERI\", \"ETH\", \"FRA\", \"GAB\", \"GBR\", \"GHA\", \"GMB\", \"GRC\", \"GTM\", \"HKG\", \"HND\", \"IDN\", \"IND\", \"IRL\", \"ISR\", \"ITA\", \"JPN\", \"KEN\", \"LBN\", \"MEX\", \"MMR\", \"MWI\", \"MYS\", \"NGA\", \"NPL\", \"PAK\", \"PER\", \"PHL\", \"RUS\", \"RWA\", \"SDN\", \"SGP\", \"SLE\", \"SOM\", \"SSD\", \"SWZ\", \"THA\", \"TTO\", \"TZA\", \"UGA\", \"USA\", \"YEM\", \"ZAF\", \"ZMB\", \"ZWE\"], \"marker\": {\"line\": {\"color\": \"rgb(180,180,180)\", \"width\": 0.5}}, \"reversescale\": true, \"text\": [\"0.8\", \"1.61\", \"0.8\", \"1.2\", \"0.4\", \"1.2\", \"0.4\", \"2.41\", \"0.4\", \"2.81\", \"1.2\", \"3.21\", \"0.8\", \"0.4\", \"0.4\", \"1.61\", \"0.4\", \"1.2\", \"1.2\", \"0.4\", \"0.8\", \"0.4\", \"0.8\", \"2.01\", \"0.4\", \"8.43\", \"1.61\", \"0.4\", \"0.8\", \"0.8\", \"1.2\", \"0.4\", \"1.61\", \"4.42\", \"1.2\", \"0.4\", \"0.4\", \"1.61\", \"2.41\", \"0.8\", \"1.61\", \"0.4\", \"1.2\", \"0.4\", \"6.83\", \"0.8\", \"2.81\", \"0.4\", \"1.2\", \"0.8\", \"0.8\", \"0.4\", \"2.01\", \"0.4\", \"0.4\", \"0.8\", \"0.4\", \"0.4\", \"0.4\", \"1.2\", \"1.61\", \"15.26\", \"0.4\", \"1.61\", \"2.41\", \"0.8\"], \"z\": [2, 4, 2, 3, 1, 3, 1, 6, 1, 7, 3, 8, 2, 1, 1, 4, 1, 3, 3, 1, 2, 1, 2, 5, 1, 21, 4, 1, 2, 2, 3, 1, 4, 11, 3, 1, 1, 4, 6, 2, 4, 1, 3, 1, 17, 2, 7, 1, 3, 2, 2, 1, 5, 1, 1, 2, 1, 1, 1, 3, 4, 38, 1, 4, 6, 2], \"type\": \"choropleth\", \"uid\": \"0722b88a-610f-11e9-873e-b4b68690f880\"}], {\"geo\": {\"projection\": {\"type\": \"mercator\"}, \"showcoastlines\": false, \"showframe\": false}, \"height\": 1000, \"width\": 1000}, {\"showLink\": true, \"linkText\": \"Export to plot.ly\"})});</script>"
      ],
      "text/vnd.plotly.v1+html": [
       "<div id=\"eebff5f9-8593-437e-adb0-48c790238ec2\" style=\"height: 1000px; width: 1000px;\" class=\"plotly-graph-div\"></div><script type=\"text/javascript\">require([\"plotly\"], function(Plotly) { window.PLOTLYENV=window.PLOTLYENV || {};window.PLOTLYENV.BASE_URL=\"https://plot.ly\";Plotly.newPlot(\"eebff5f9-8593-437e-adb0-48c790238ec2\", [{\"autocolorscale\": false, \"colorscale\": [[0, \"rgb(5, 10, 172)\"], [0.35, \"rgb(40, 60, 190)\"], [0.5, \"rgb(70, 100, 245)\"], [0.6, \"rgb(90, 120, 245)\"], [0.7, \"rgb(95, 130, 247)\"], [1, \"rgb(106, 137, 247)\"]], \"locations\": [\"ARE\", \"AUS\", \"AUT\", \"BEL\", \"BFA\", \"BGD\", \"BGR\", \"BRA\", \"BWA\", \"CAN\", \"CHE\", \"CHN\", \"CMR\", \"COD\", \"COG\", \"COL\", \"CYP\", \"DEU\", \"DNK\", \"ECU\", \"EGY\", \"ERI\", \"ETH\", \"FRA\", \"GAB\", \"GBR\", \"GHA\", \"GMB\", \"GRC\", \"GTM\", \"HKG\", \"HND\", \"IDN\", \"IND\", \"IRL\", \"ISR\", \"ITA\", \"JPN\", \"KEN\", \"LBN\", \"MEX\", \"MMR\", \"MWI\", \"MYS\", \"NGA\", \"NPL\", \"PAK\", \"PER\", \"PHL\", \"RUS\", \"RWA\", \"SDN\", \"SGP\", \"SLE\", \"SOM\", \"SSD\", \"SWZ\", \"THA\", \"TTO\", \"TZA\", \"UGA\", \"USA\", \"YEM\", \"ZAF\", \"ZMB\", \"ZWE\"], \"marker\": {\"line\": {\"color\": \"rgb(180,180,180)\", \"width\": 0.5}}, \"reversescale\": true, \"text\": [\"0.8\", \"1.61\", \"0.8\", \"1.2\", \"0.4\", \"1.2\", \"0.4\", \"2.41\", \"0.4\", \"2.81\", \"1.2\", \"3.21\", \"0.8\", \"0.4\", \"0.4\", \"1.61\", \"0.4\", \"1.2\", \"1.2\", \"0.4\", \"0.8\", \"0.4\", \"0.8\", \"2.01\", \"0.4\", \"8.43\", \"1.61\", \"0.4\", \"0.8\", \"0.8\", \"1.2\", \"0.4\", \"1.61\", \"4.42\", \"1.2\", \"0.4\", \"0.4\", \"1.61\", \"2.41\", \"0.8\", \"1.61\", \"0.4\", \"1.2\", \"0.4\", \"6.83\", \"0.8\", \"2.81\", \"0.4\", \"1.2\", \"0.8\", \"0.8\", \"0.4\", \"2.01\", \"0.4\", \"0.4\", \"0.8\", \"0.4\", \"0.4\", \"0.4\", \"1.2\", \"1.61\", \"15.26\", \"0.4\", \"1.61\", \"2.41\", \"0.8\"], \"z\": [2, 4, 2, 3, 1, 3, 1, 6, 1, 7, 3, 8, 2, 1, 1, 4, 1, 3, 3, 1, 2, 1, 2, 5, 1, 21, 4, 1, 2, 2, 3, 1, 4, 11, 3, 1, 1, 4, 6, 2, 4, 1, 3, 1, 17, 2, 7, 1, 3, 2, 2, 1, 5, 1, 1, 2, 1, 1, 1, 3, 4, 38, 1, 4, 6, 2], \"type\": \"choropleth\", \"uid\": \"0722b88a-610f-11e9-873e-b4b68690f880\"}], {\"geo\": {\"projection\": {\"type\": \"mercator\"}, \"showcoastlines\": false, \"showframe\": false}, \"height\": 1000, \"width\": 1000}, {\"showLink\": true, \"linkText\": \"Export to plot.ly\"})});</script>"
      ]
     },
     "metadata": {},
     "output_type": "display_data"
    }
   ],
   "source": [
    "countries (submitted, 'Reference Number', totalsubmitted)"
   ]
  },
  {
   "cell_type": "markdown",
   "metadata": {},
   "source": [
    "# So far 22 offers have been made to applicants in 18 countries "
   ]
  },
  {
   "cell_type": "code",
   "execution_count": 61,
   "metadata": {
    "collapsed": true,
    "extensions": {
     "jupyter_dashboards": {
      "version": 1,
      "views": {
       "grid_default": {},
       "report_default": {
        "hidden": true
       }
      }
     }
    }
   },
   "outputs": [
    {
     "data": {
      "application/vnd.plotly.v1+json": {
       "data": [
        {
         "autocolorscale": false,
         "colorscale": [
          [
           0,
           "rgb(5, 10, 172)"
          ],
          [
           0.35,
           "rgb(40, 60, 190)"
          ],
          [
           0.5,
           "rgb(70, 100, 245)"
          ],
          [
           0.6,
           "rgb(90, 120, 245)"
          ],
          [
           0.7,
           "rgb(95, 130, 247)"
          ],
          [
           1,
           "rgb(106, 137, 247)"
          ]
         ],
         "locations": [
          "ARE",
          "BEL",
          "BRA",
          "CAN",
          "DNK",
          "GBR",
          "HKG",
          "IDN",
          "IND",
          "IRL",
          "JPN",
          "LBN",
          "RUS",
          "THA",
          "TTO",
          "TZA",
          "USA",
          "ZWE"
         ],
         "marker": {
          "line": {
           "color": "rgb(180,180,180)",
           "width": 0.5
          }
         },
         "reversescale": true,
         "text": [
          "4.55",
          "4.55",
          "9.09",
          "4.55",
          "4.55",
          "13.64",
          "4.55",
          "4.55",
          "4.55",
          "4.55",
          "4.55",
          "4.55",
          "4.55",
          "4.55",
          "4.55",
          "4.55",
          "9.09",
          "4.55"
         ],
         "type": "choropleth",
         "uid": "67079d12-610f-11e9-a623-b4b68690f880",
         "z": [
          1,
          1,
          2,
          1,
          1,
          3,
          1,
          1,
          1,
          1,
          1,
          1,
          1,
          1,
          1,
          1,
          2,
          1
         ]
        }
       ],
       "layout": {
        "geo": {
         "projection": {
          "type": "mercator"
         },
         "showcoastlines": false,
         "showframe": false
        },
        "height": 1000,
        "width": 1000
       }
      },
      "text/html": [
       "<div id=\"3cd3226a-6ddc-4b24-abef-13e519b5af3c\" style=\"height: 1000px; width: 1000px;\" class=\"plotly-graph-div\"></div><script type=\"text/javascript\">require([\"plotly\"], function(Plotly) { window.PLOTLYENV=window.PLOTLYENV || {};window.PLOTLYENV.BASE_URL=\"https://plot.ly\";Plotly.newPlot(\"3cd3226a-6ddc-4b24-abef-13e519b5af3c\", [{\"autocolorscale\": false, \"colorscale\": [[0, \"rgb(5, 10, 172)\"], [0.35, \"rgb(40, 60, 190)\"], [0.5, \"rgb(70, 100, 245)\"], [0.6, \"rgb(90, 120, 245)\"], [0.7, \"rgb(95, 130, 247)\"], [1, \"rgb(106, 137, 247)\"]], \"locations\": [\"ARE\", \"BEL\", \"BRA\", \"CAN\", \"DNK\", \"GBR\", \"HKG\", \"IDN\", \"IND\", \"IRL\", \"JPN\", \"LBN\", \"RUS\", \"THA\", \"TTO\", \"TZA\", \"USA\", \"ZWE\"], \"marker\": {\"line\": {\"color\": \"rgb(180,180,180)\", \"width\": 0.5}}, \"reversescale\": true, \"text\": [\"4.55\", \"4.55\", \"9.09\", \"4.55\", \"4.55\", \"13.64\", \"4.55\", \"4.55\", \"4.55\", \"4.55\", \"4.55\", \"4.55\", \"4.55\", \"4.55\", \"4.55\", \"4.55\", \"9.09\", \"4.55\"], \"z\": [1, 1, 2, 1, 1, 3, 1, 1, 1, 1, 1, 1, 1, 1, 1, 1, 2, 1], \"type\": \"choropleth\", \"uid\": \"670aad5e-610f-11e9-9e16-b4b68690f880\"}], {\"geo\": {\"projection\": {\"type\": \"mercator\"}, \"showcoastlines\": false, \"showframe\": false}, \"height\": 1000, \"width\": 1000}, {\"showLink\": true, \"linkText\": \"Export to plot.ly\"})});</script>"
      ],
      "text/vnd.plotly.v1+html": [
       "<div id=\"3cd3226a-6ddc-4b24-abef-13e519b5af3c\" style=\"height: 1000px; width: 1000px;\" class=\"plotly-graph-div\"></div><script type=\"text/javascript\">require([\"plotly\"], function(Plotly) { window.PLOTLYENV=window.PLOTLYENV || {};window.PLOTLYENV.BASE_URL=\"https://plot.ly\";Plotly.newPlot(\"3cd3226a-6ddc-4b24-abef-13e519b5af3c\", [{\"autocolorscale\": false, \"colorscale\": [[0, \"rgb(5, 10, 172)\"], [0.35, \"rgb(40, 60, 190)\"], [0.5, \"rgb(70, 100, 245)\"], [0.6, \"rgb(90, 120, 245)\"], [0.7, \"rgb(95, 130, 247)\"], [1, \"rgb(106, 137, 247)\"]], \"locations\": [\"ARE\", \"BEL\", \"BRA\", \"CAN\", \"DNK\", \"GBR\", \"HKG\", \"IDN\", \"IND\", \"IRL\", \"JPN\", \"LBN\", \"RUS\", \"THA\", \"TTO\", \"TZA\", \"USA\", \"ZWE\"], \"marker\": {\"line\": {\"color\": \"rgb(180,180,180)\", \"width\": 0.5}}, \"reversescale\": true, \"text\": [\"4.55\", \"4.55\", \"9.09\", \"4.55\", \"4.55\", \"13.64\", \"4.55\", \"4.55\", \"4.55\", \"4.55\", \"4.55\", \"4.55\", \"4.55\", \"4.55\", \"4.55\", \"4.55\", \"9.09\", \"4.55\"], \"z\": [1, 1, 2, 1, 1, 3, 1, 1, 1, 1, 1, 1, 1, 1, 1, 1, 2, 1], \"type\": \"choropleth\", \"uid\": \"670aad5e-610f-11e9-9e16-b4b68690f880\"}], {\"geo\": {\"projection\": {\"type\": \"mercator\"}, \"showcoastlines\": false, \"showframe\": false}, \"height\": 1000, \"width\": 1000}, {\"showLink\": true, \"linkText\": \"Export to plot.ly\"})});</script>"
      ]
     },
     "metadata": {},
     "output_type": "display_data"
    }
   ],
   "source": [
    "countries (accepted, 'Reference Number',totalaccept)"
   ]
  },
  {
   "cell_type": "code",
   "execution_count": 130,
   "metadata": {},
   "outputs": [],
   "source": [
    "submitedu = submitted.groupby('Highest education').nunique().sort_values('Reference Number')\n",
    "acceptedu = accepted.groupby('Highest education').nunique().sort_values('Reference Number')"
   ]
  },
  {
   "cell_type": "markdown",
   "metadata": {},
   "source": [
    "# 25% of all submissions list 'other qualifications' as their highest award\n",
    "\n"
   ]
  },
  {
   "cell_type": "code",
   "execution_count": 136,
   "metadata": {
    "scrolled": true
   },
   "outputs": [
    {
     "data": {
      "application/vnd.plotly.v1+json": {
       "data": [
        {
         "name": "Submitted",
         "orientation": "h",
         "type": "bar",
         "uid": "5d0c5bd0-6115-11e9-9a9e-b4b68690f880",
         "x": [
          0,
          0,
          0,
          0,
          1,
          1,
          1,
          1,
          1,
          1,
          1,
          1,
          1,
          2,
          2,
          2,
          2,
          2,
          2,
          2,
          3,
          3,
          3,
          3,
          6,
          8,
          10,
          16,
          24
         ],
         "y": [
          "MPhil Degree from Overseas Institution",
          "MSci Degree from EU Institution",
          "Doctoral",
          "MBA Degree from EU Institution",
          "PG Diploma from UK Institution",
          "BA Degree from UK Institution",
          "PG Diploma from Overseas Institution",
          "MBBS Degree from UK Institution",
          "PhD Degree from EU Institution",
          "MSci Degree from Overseas Institution",
          "BEng Degree from Overseas Institution",
          "PhD Degree from UK Institution",
          "Masters",
          "MBA Degree from UK Institution",
          "PG Diploma from EU Institution",
          "MSc Degree from EU Institution",
          "MSc Degree from UK Institution",
          "BSc Degree from UK Institution",
          "MB Bch Degree from Overseas Institution",
          "MA Degree from Overseas Institution",
          "Professional (MD,JD,etc)",
          "MBA Degree from Overseas Institution",
          "BSc Degree from EU Institution",
          "PhD Degree from Overseas Institution",
          "BA Degree from Overseas Institution",
          "MSc Degree from Overseas Institution",
          "MBBS Degree from Overseas Institution",
          "BSc Degree from Overseas Institution",
          "Other qualification not listed above"
         ]
        }
       ],
       "layout": {
        "barmode": "group",
        "xaxis": {
         "domain": [
          0.3,
          1
         ],
         "title": "% of total"
        },
        "yaxis": {
         "showticklabels": true,
         "tickmode": "linear"
        }
       }
      },
      "text/html": [
       "<div id=\"9fd0f2f8-674f-49b1-84cf-74d4b0e7c107\" style=\"height: 525px; width: 100%;\" class=\"plotly-graph-div\"></div><script type=\"text/javascript\">require([\"plotly\"], function(Plotly) { window.PLOTLYENV=window.PLOTLYENV || {};window.PLOTLYENV.BASE_URL=\"https://plot.ly\";\n",
       "        Plotly.plot(\n",
       "            '9fd0f2f8-674f-49b1-84cf-74d4b0e7c107',\n",
       "            [{\"name\": \"Submitted\", \"orientation\": \"h\", \"x\": [0.0, 0.0, 0.0, 0.0, 1.0, 1.0, 1.0, 1.0, 1.0, 1.0, 1.0, 1.0, 1.0, 2.0, 2.0, 2.0, 2.0, 2.0, 2.0, 2.0, 3.0, 3.0, 3.0, 3.0, 6.0, 8.0, 10.0, 16.0, 24.0], \"y\": [\"MPhil Degree from Overseas Institution\", \"MSci Degree from EU Institution\", \"Doctoral\", \"MBA Degree from EU Institution\", \"PG Diploma from UK Institution\", \"BA Degree from UK Institution\", \"PG Diploma from Overseas Institution\", \"MBBS Degree from UK Institution\", \"PhD Degree from EU Institution\", \"MSci Degree from Overseas Institution\", \"BEng Degree from Overseas Institution\", \"PhD Degree from UK Institution\", \"Masters\", \"MBA Degree from UK Institution\", \"PG Diploma from EU Institution\", \"MSc Degree from EU Institution\", \"MSc Degree from UK Institution\", \"BSc Degree from UK Institution\", \"MB Bch Degree from Overseas Institution\", \"MA Degree from Overseas Institution\", \"Professional (MD,JD,etc)\", \"MBA Degree from Overseas Institution\", \"BSc Degree from EU Institution\", \"PhD Degree from Overseas Institution\", \"BA Degree from Overseas Institution\", \"MSc Degree from Overseas Institution\", \"MBBS Degree from Overseas Institution\", \"BSc Degree from Overseas Institution\", \"Other qualification not listed above\"], \"type\": \"bar\", \"uid\": \"5d0c5bd0-6115-11e9-9a9e-b4b68690f880\"}],\n",
       "            {\"barmode\": \"group\", \"xaxis\": {\"domain\": [0.3, 1], \"title\": \"% of total\"}, \"yaxis\": {\"showticklabels\": true, \"tickmode\": \"linear\"}},\n",
       "            {\"showLink\": true, \"linkText\": \"Export to plot.ly\"}\n",
       "        ).then(function () {return Plotly.addFrames('9fd0f2f8-674f-49b1-84cf-74d4b0e7c107',{});}).then(function(){Plotly.animate('9fd0f2f8-674f-49b1-84cf-74d4b0e7c107');})\n",
       "        });</script>"
      ],
      "text/vnd.plotly.v1+html": [
       "<div id=\"9fd0f2f8-674f-49b1-84cf-74d4b0e7c107\" style=\"height: 525px; width: 100%;\" class=\"plotly-graph-div\"></div><script type=\"text/javascript\">require([\"plotly\"], function(Plotly) { window.PLOTLYENV=window.PLOTLYENV || {};window.PLOTLYENV.BASE_URL=\"https://plot.ly\";\n",
       "        Plotly.plot(\n",
       "            '9fd0f2f8-674f-49b1-84cf-74d4b0e7c107',\n",
       "            [{\"name\": \"Submitted\", \"orientation\": \"h\", \"x\": [0.0, 0.0, 0.0, 0.0, 1.0, 1.0, 1.0, 1.0, 1.0, 1.0, 1.0, 1.0, 1.0, 2.0, 2.0, 2.0, 2.0, 2.0, 2.0, 2.0, 3.0, 3.0, 3.0, 3.0, 6.0, 8.0, 10.0, 16.0, 24.0], \"y\": [\"MPhil Degree from Overseas Institution\", \"MSci Degree from EU Institution\", \"Doctoral\", \"MBA Degree from EU Institution\", \"PG Diploma from UK Institution\", \"BA Degree from UK Institution\", \"PG Diploma from Overseas Institution\", \"MBBS Degree from UK Institution\", \"PhD Degree from EU Institution\", \"MSci Degree from Overseas Institution\", \"BEng Degree from Overseas Institution\", \"PhD Degree from UK Institution\", \"Masters\", \"MBA Degree from UK Institution\", \"PG Diploma from EU Institution\", \"MSc Degree from EU Institution\", \"MSc Degree from UK Institution\", \"BSc Degree from UK Institution\", \"MB Bch Degree from Overseas Institution\", \"MA Degree from Overseas Institution\", \"Professional (MD,JD,etc)\", \"MBA Degree from Overseas Institution\", \"BSc Degree from EU Institution\", \"PhD Degree from Overseas Institution\", \"BA Degree from Overseas Institution\", \"MSc Degree from Overseas Institution\", \"MBBS Degree from Overseas Institution\", \"BSc Degree from Overseas Institution\", \"Other qualification not listed above\"], \"type\": \"bar\", \"uid\": \"5d0c5bd0-6115-11e9-9a9e-b4b68690f880\"}],\n",
       "            {\"barmode\": \"group\", \"xaxis\": {\"domain\": [0.3, 1], \"title\": \"% of total\"}, \"yaxis\": {\"showticklabels\": true, \"tickmode\": \"linear\"}},\n",
       "            {\"showLink\": true, \"linkText\": \"Export to plot.ly\"}\n",
       "        ).then(function () {return Plotly.addFrames('9fd0f2f8-674f-49b1-84cf-74d4b0e7c107',{});}).then(function(){Plotly.animate('9fd0f2f8-674f-49b1-84cf-74d4b0e7c107');})\n",
       "        });</script>"
      ]
     },
     "metadata": {},
     "output_type": "display_data"
    }
   ],
   "source": [
    "trace1 = go.Bar(\n",
    "    x=round((submitedu['Reference Number'] / totalsubmitted)*100, 0),\n",
    "    y=submitedu.index,\n",
    "    name='Submitted',\n",
    "    orientation = 'h'\n",
    ")\n",
    "\n",
    "\n",
    "data = [trace1]\n",
    "layout = go.Layout(\n",
    "    barmode='group',\n",
    "    xaxis=dict(\n",
    "        domain=[0.3, 1],\n",
    "        title = '% of total'),\n",
    "    yaxis=dict(\n",
    "        tickmode = 'linear',\n",
    "        showticklabels = True\n",
    "    ),\n",
    ")\n",
    "\n",
    "fig = go.Figure(data=data, layout=layout)\n",
    "py.iplot(fig, filename='grouped-bar')"
   ]
  },
  {
   "cell_type": "raw",
   "metadata": {},
   "source": []
  },
  {
   "cell_type": "markdown",
   "metadata": {},
   "source": [
    "### UK BSc are the most likely to be accepted (100% of UK BSc submissions were accepted)"
   ]
  },
  {
   "cell_type": "code",
   "execution_count": 138,
   "metadata": {
    "extensions": {
     "jupyter_dashboards": {
      "version": 1,
      "views": {
       "grid_default": {
        "hidden": true
       },
       "report_default": {
        "hidden": true
       }
      }
     }
    }
   },
   "outputs": [
    {
     "data": {
      "application/vnd.plotly.v1+json": {
       "data": [
        {
         "name": "Accepted",
         "orientation": "h",
         "type": "bar",
         "uid": "b874daae-6115-11e9-92c9-b4b68690f880",
         "x": [
          null,
          null,
          null,
          null,
          2,
          40,
          null,
          17,
          null,
          100,
          29,
          25,
          12,
          null,
          null,
          null,
          5,
          null,
          null,
          null,
          33,
          10,
          25,
          null,
          null,
          null,
          null,
          33,
          14
         ],
         "y": [
          "BSc Degree from Overseas Institution",
          "MA Degree from Overseas Institution",
          "MBA Degree from EU Institution",
          "MBA Degree from UK Institution",
          "MSc Degree from Overseas Institution",
          "Masters",
          "PG Diploma from EU Institution",
          "PhD Degree from UK Institution",
          "Professional (MD,JD,etc)",
          "BSc Degree from UK Institution",
          "MBA Degree from Overseas Institution",
          "MBBS Degree from Overseas Institution",
          "Other qualification not listed above"
         ]
        }
       ],
       "layout": {
        "barmode": "group",
        "title": "% submissions that were later accepted",
        "xaxis": {
         "domain": [
          0.3,
          1
         ]
        },
        "yaxis": {
         "showticklabels": true,
         "tickmode": "linear"
        }
       }
      },
      "text/html": [
       "<div id=\"87ea3d2d-6f25-4ac1-8a66-e4f94b11d4c1\" style=\"height: 525px; width: 100%;\" class=\"plotly-graph-div\"></div><script type=\"text/javascript\">require([\"plotly\"], function(Plotly) { window.PLOTLYENV=window.PLOTLYENV || {};window.PLOTLYENV.BASE_URL=\"https://plot.ly\";\n",
       "        Plotly.plot(\n",
       "            '87ea3d2d-6f25-4ac1-8a66-e4f94b11d4c1',\n",
       "            [{\"name\": \"Accepted\", \"orientation\": \"h\", \"x\": [null, null, null, null, 2.0, 40.0, null, 17.0, null, 100.0, 29.0, 25.0, 12.0, null, null, null, 5.0, null, null, null, 33.0, 10.0, 25.0, null, null, null, null, 33.0, 14.0], \"y\": [\"BSc Degree from Overseas Institution\", \"MA Degree from Overseas Institution\", \"MBA Degree from EU Institution\", \"MBA Degree from UK Institution\", \"MSc Degree from Overseas Institution\", \"Masters\", \"PG Diploma from EU Institution\", \"PhD Degree from UK Institution\", \"Professional (MD,JD,etc)\", \"BSc Degree from UK Institution\", \"MBA Degree from Overseas Institution\", \"MBBS Degree from Overseas Institution\", \"Other qualification not listed above\"], \"type\": \"bar\", \"uid\": \"b874daae-6115-11e9-92c9-b4b68690f880\"}],\n",
       "            {\"barmode\": \"group\", \"title\": \"% submissions that were later accepted\", \"xaxis\": {\"domain\": [0.3, 1]}, \"yaxis\": {\"showticklabels\": true, \"tickmode\": \"linear\"}},\n",
       "            {\"showLink\": true, \"linkText\": \"Export to plot.ly\"}\n",
       "        ).then(function () {return Plotly.addFrames('87ea3d2d-6f25-4ac1-8a66-e4f94b11d4c1',{});}).then(function(){Plotly.animate('87ea3d2d-6f25-4ac1-8a66-e4f94b11d4c1');})\n",
       "        });</script>"
      ],
      "text/vnd.plotly.v1+html": [
       "<div id=\"87ea3d2d-6f25-4ac1-8a66-e4f94b11d4c1\" style=\"height: 525px; width: 100%;\" class=\"plotly-graph-div\"></div><script type=\"text/javascript\">require([\"plotly\"], function(Plotly) { window.PLOTLYENV=window.PLOTLYENV || {};window.PLOTLYENV.BASE_URL=\"https://plot.ly\";\n",
       "        Plotly.plot(\n",
       "            '87ea3d2d-6f25-4ac1-8a66-e4f94b11d4c1',\n",
       "            [{\"name\": \"Accepted\", \"orientation\": \"h\", \"x\": [null, null, null, null, 2.0, 40.0, null, 17.0, null, 100.0, 29.0, 25.0, 12.0, null, null, null, 5.0, null, null, null, 33.0, 10.0, 25.0, null, null, null, null, 33.0, 14.0], \"y\": [\"BSc Degree from Overseas Institution\", \"MA Degree from Overseas Institution\", \"MBA Degree from EU Institution\", \"MBA Degree from UK Institution\", \"MSc Degree from Overseas Institution\", \"Masters\", \"PG Diploma from EU Institution\", \"PhD Degree from UK Institution\", \"Professional (MD,JD,etc)\", \"BSc Degree from UK Institution\", \"MBA Degree from Overseas Institution\", \"MBBS Degree from Overseas Institution\", \"Other qualification not listed above\"], \"type\": \"bar\", \"uid\": \"b874daae-6115-11e9-92c9-b4b68690f880\"}],\n",
       "            {\"barmode\": \"group\", \"title\": \"% submissions that were later accepted\", \"xaxis\": {\"domain\": [0.3, 1]}, \"yaxis\": {\"showticklabels\": true, \"tickmode\": \"linear\"}},\n",
       "            {\"showLink\": true, \"linkText\": \"Export to plot.ly\"}\n",
       "        ).then(function () {return Plotly.addFrames('87ea3d2d-6f25-4ac1-8a66-e4f94b11d4c1',{});}).then(function(){Plotly.animate('87ea3d2d-6f25-4ac1-8a66-e4f94b11d4c1');})\n",
       "        });</script>"
      ]
     },
     "metadata": {},
     "output_type": "display_data"
    }
   ],
   "source": [
    "trace1 = go.Bar(\n",
    "    x=round((acceptedu['Reference Number'] / submitedu['Reference Number'])*100, 0),\n",
    "    y=acceptedu.index,\n",
    "    name='Accepted',\n",
    "    orientation = 'h'\n",
    ")\n",
    "\n",
    "data = [trace1]\n",
    "layout = go.Layout(\n",
    "    barmode='group',\n",
    "    xaxis=dict(\n",
    "        domain=[0.3, 1]),\n",
    "        title = '% submissions that were later accepted',\n",
    "    yaxis=dict(\n",
    "        tickmode = 'linear',\n",
    "        showticklabels = True\n",
    "    ),\n",
    ")\n",
    "\n",
    "fig = go.Figure(data=data, layout=layout)\n",
    "py.iplot(fig, filename='grouped-bar')"
   ]
  }
 ],
 "metadata": {
  "extensions": {
   "jupyter_dashboards": {
    "activeView": "report_default",
    "version": 1,
    "views": {
     "grid_default": {
      "cellMargin": 10,
      "defaultCellHeight": 20,
      "maxColumns": 12,
      "name": "grid",
      "type": "grid"
     },
     "report_default": {
      "name": "report",
      "type": "report"
     }
    }
   }
  },
  "kernelspec": {
   "display_name": "Python 3",
   "language": "python",
   "name": "python3"
  },
  "language_info": {
   "codemirror_mode": {
    "name": "ipython",
    "version": 3
   },
   "file_extension": ".py",
   "mimetype": "text/x-python",
   "name": "python",
   "nbconvert_exporter": "python",
   "pygments_lexer": "ipython3",
   "version": "3.6.4"
  }
 },
 "nbformat": 4,
 "nbformat_minor": 2
}
