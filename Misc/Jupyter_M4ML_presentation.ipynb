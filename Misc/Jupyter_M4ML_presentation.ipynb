{
 "cells": [
  {
   "cell_type": "markdown",
   "metadata": {
    "extensions": {
     "jupyter_dashboards": {
      "version": 1,
      "views": {
       "grid_default": {
        "col": 0,
        "height": 4,
        "hidden": false,
        "row": 0,
        "width": 4
       },
       "report_default": {
        "hidden": false
       }
      }
     }
    }
   },
   "source": [
    "# Jupyter Notebooks in Mathematics for Machine Learning - Linear Algebra MOOC\n"
   ]
  },
  {
   "cell_type": "markdown",
   "metadata": {},
   "source": [
    "## “I hadn't used Python earlier, but the programming assignments (especially the PageRank algorithm implementation) have motivated me to start learning the language.” - Learner Feedback"
   ]
  },
  {
   "cell_type": "code",
   "execution_count": 9,
   "metadata": {},
   "outputs": [],
   "source": [
    "# Options are: 'LA', 'MVC' or 'PCA'\n",
    "course = 'LA'"
   ]
  },
  {
   "cell_type": "code",
   "execution_count": 10,
   "metadata": {
    "extensions": {
     "jupyter_dashboards": {
      "version": 1,
      "views": {
       "grid_default": {
        "hidden": true
       },
       "report_default": {
        "hidden": true
       }
      }
     }
    }
   },
   "outputs": [
    {
     "data": {
      "text/html": [
       "<script>jQuery(function() {if (jQuery(\"body.notebook_app\").length == 0) { jQuery(\".input_area\").toggle(); jQuery(\".prompt\").toggle();}});</script>"
      ]
     },
     "metadata": {},
     "output_type": "display_data"
    },
    {
     "data": {
      "text/html": [
       "<button onclick=\"jQuery('.input_area').toggle(); jQuery('.prompt').toggle();\">Show / Hide Code</button>"
      ]
     },
     "metadata": {},
     "output_type": "display_data"
    },
    {
     "data": {
      "text/html": [
       "<script>requirejs.config({paths: { 'plotly': ['https://cdn.plot.ly/plotly-latest.min']},});if(!window.Plotly) {{require(['plotly'],function(plotly) {window.Plotly=plotly;});}}</script>"
      ],
      "text/vnd.plotly.v1+html": [
       "<script>requirejs.config({paths: { 'plotly': ['https://cdn.plot.ly/plotly-latest.min']},});if(!window.Plotly) {{require(['plotly'],function(plotly) {window.Plotly=plotly;});}}</script>"
      ]
     },
     "metadata": {},
     "output_type": "display_data"
    },
    {
     "name": "stdout",
     "output_type": "stream",
     "text": [
      "2018-11-23 12:39:09.721328\n"
     ]
    }
   ],
   "source": [
    "from datetime import datetime as dt\n",
    "import numpy as np\n",
    "import pandas as pd\n",
    "import matplotlib as plt\n",
    "import plotly.offline as py\n",
    "import plotly.graph_objs as go\n",
    "import plotly.tools as tls\n",
    "\n",
    "import IPython.core.display as di\n",
    "\n",
    "# This line will hide code by default when the notebook is exported as HTML\n",
    "di.display_html('<script>jQuery(function() {if (jQuery(\"body.notebook_app\").length == 0) { jQuery(\".input_area\").toggle(); jQuery(\".prompt\").toggle();}});</script>', raw=True)\n",
    "\n",
    "# This line will add a button to toggle visibility of code blocks, for use with the HTML export version\n",
    "di.display_html('''<button onclick=\"jQuery('.input_area').toggle(); jQuery('.prompt').toggle();\">Show / Hide Code</button>''', raw=True)\n",
    "\n",
    "\n",
    "py.init_notebook_mode(connected=True)\n",
    "\n",
    "time = dt.now\n",
    "print(dt.now())"
   ]
  },
  {
   "cell_type": "code",
   "execution_count": 11,
   "metadata": {
    "extensions": {
     "jupyter_dashboards": {
      "version": 1,
      "views": {
       "grid_default": {
        "col": 4,
        "height": 4,
        "hidden": false,
        "row": 0,
        "width": 4
       },
       "report_default": {
        "hidden": false
       }
      }
     }
    }
   },
   "outputs": [],
   "source": [
    "\n",
    "df2 = pd.read_csv('C:\\\\Users\\\\ikalkani\\\\Box\\\\Digital Learning Hub\\\\10. Data Analytics\\Data\\Coursera-M4ML\\\\Linear Algebra - Coursera data\\\\programming_submissions.csv', low_memory=False)\n",
    "df3 = pd.read_csv('C:\\\\Users\\\\ikalkani\\\\Box\\\\Digital Learning Hub\\\\10. Data Analytics\\Data\\Coursera-M4ML\\\\Linear Algebra - Coursera data\\\\programming_assignment_submission_schema_parts.csv', low_memory=False)\n",
    "\n",
    "\n",
    "\n",
    "df3 = df3.set_index('programming_assignment_id')\n",
    "\n",
    "df2 = df2.join(df3,'programming_assignment_id',how='left')\n",
    "\n",
    "gradebook = pd.read_csv('C:\\\\Users\\\\ikalkani\\\\Box\\\\Digital Learning Hub\\\\10. Data Analytics\\Data\\Coursera-M4ML\\\\Linear Algebra - Coursera data\\\\gradebook.csv', low_memory=False)\n",
    "users = pd.read_csv('C:\\\\Users\\\\ikalkani\\\\Box\\\\Digital Learning Hub\\\\10. Data Analytics\\Data\\Coursera-M4ML\\\\Linear Algebra - Coursera data\\\\users.csv')\n",
    "users = users.set_index('imperial_user_id')\n",
    "country_codes = pd.read_csv('C:\\\\Users\\\\ikalkani\\\\Box\\\\Digital Learning Hub\\\\10. Data Analytics\\Data\\Coursera-M4ML\\\\Linear Algebra - Coursera data\\\\ISO_country_codes.csv')\n",
    "country_codes = country_codes.set_index('alpha2')\n",
    "## this sets the index of  the country_codes table to the two letter code, making it easy to join with the 'country_cd' column in df\n",
    "\n",
    "gb = gradebook.join(users, 'Anonymized Coursera ID (imperial_user_id)', how = 'left')\n",
    "\n",
    "\n",
    "### Pull in additional country information from ISO data so that we have full country name and alpha3 code which is required for the worldview Plotly map\n",
    "gb =  gb.join(country_codes,'country_cd', how = 'left')\n",
    "total = gb['Anonymized Coursera ID (imperial_user_id)'].nunique()\n",
    "\n"
   ]
  },
  {
   "cell_type": "code",
   "execution_count": 12,
   "metadata": {},
   "outputs": [],
   "source": [
    "def countries (df, column):\n",
    "    \n",
    "    df1 = df.groupby('alpha3').count()\n",
    "\n",
    "    data = [dict(\n",
    "            type = 'choropleth',\n",
    "            locations = df1.index,\n",
    "            z = df1[column],\n",
    "            colorscale = [[0.0, 'rgb(242,240,247)'],[0.2, 'rgb(218,218,235)'],[0.4, 'rgb(188,189,220)'],\\\n",
    "            [0.6, 'rgb(158,154,200)'],[0.8, 'rgb(117,107,177)'],[1.0, 'rgb(84,39,143)']],\n",
    "            autocolorscale = False,\n",
    "            marker = dict(\n",
    "                line = dict (\n",
    "                    color = 'rgb(180,180,180)',\n",
    "                    width = 0.5\n",
    "                ) ) ) ]\n",
    "\n",
    "    layout = dict(\n",
    "        height = 800,\n",
    "        width = 800,\n",
    "        geo = dict(\n",
    "            showframe = True,\n",
    "            showcoastlines = False,\n",
    "            projection = dict(\n",
    "                type = 'orthographic'\n",
    "            )))\n",
    "\n",
    "    fig = dict( data=data, layout=layout )\n",
    "    plot = py.iplot(fig)\n"
   ]
  },
  {
   "cell_type": "code",
   "execution_count": 5,
   "metadata": {},
   "outputs": [
    {
     "name": "stdout",
     "output_type": "stream",
     "text": [
      "Total number of students to date: 43125\n"
     ]
    },
    {
     "data": {
      "application/vnd.plotly.v1+json": {
       "data": [
        {
         "autocolorscale": false,
         "colorscale": [
          [
           0,
           "rgb(242,240,247)"
          ],
          [
           0.2,
           "rgb(218,218,235)"
          ],
          [
           0.4,
           "rgb(188,189,220)"
          ],
          [
           0.6,
           "rgb(158,154,200)"
          ],
          [
           0.8,
           "rgb(117,107,177)"
          ],
          [
           1,
           "rgb(84,39,143)"
          ]
         ],
         "locations": [
          "AFG",
          "AGO",
          "AIA",
          "ALB",
          "AND",
          "ARE",
          "ARG",
          "ARM",
          "AUS",
          "AUT",
          "AZE",
          "BDI",
          "BEL",
          "BEN",
          "BFA",
          "BGD",
          "BGR",
          "BHR",
          "BHS",
          "BIH",
          "BLR",
          "BLZ",
          "BMU",
          "BOL",
          "BRA",
          "BRB",
          "BRN",
          "BWA",
          "CAN",
          "CHE",
          "CHL",
          "CHN",
          "CIV",
          "CMR",
          "COD",
          "COL",
          "CPV",
          "CRI",
          "CUB",
          "CUW",
          "CYM",
          "CYP",
          "CZE",
          "DEU",
          "DJI",
          "DNK",
          "DOM",
          "DZA",
          "ECU",
          "EGY",
          "ESP",
          "EST",
          "ETH",
          "FIN",
          "FJI",
          "FRA",
          "GAB",
          "GBR",
          "GEO",
          "GHA",
          "GIB",
          "GLP",
          "GRC",
          "GTM",
          "GUM",
          "GUY",
          "HKG",
          "HND",
          "HRV",
          "HTI",
          "HUN",
          "IDN",
          "IMN",
          "IND",
          "IRL",
          "IRN",
          "IRQ",
          "ISL",
          "ISR",
          "ITA",
          "JAM",
          "JEY",
          "JOR",
          "JPN",
          "KAZ",
          "KEN",
          "KGZ",
          "KHM",
          "KOR",
          "KWT",
          "LBN",
          "LBR",
          "LBY",
          "LIE",
          "LKA",
          "LSO",
          "LTU",
          "LUX",
          "LVA",
          "MAC",
          "MAR",
          "MCO",
          "MDA",
          "MDG",
          "MDV",
          "MEX",
          "MKD",
          "MLT",
          "MMR",
          "MNE",
          "MNG",
          "MOZ",
          "MRT",
          "MUS",
          "MWI",
          "MYS",
          "NAM",
          "NGA",
          "NIC",
          "NLD",
          "NOR",
          "NPL",
          "NZL",
          "OMN",
          "PAK",
          "PAN",
          "PER",
          "PHL",
          "PNG",
          "POL",
          "PRI",
          "PRT",
          "PRY",
          "PSE",
          "QAT",
          "REU",
          "ROU",
          "RUS",
          "RWA",
          "SAU",
          "SDN",
          "SEN",
          "SGP",
          "SLV",
          "SOM",
          "SRB",
          "SUR",
          "SVK",
          "SVN",
          "SWE",
          "SWZ",
          "SYC",
          "SYR",
          "TCA",
          "TGO",
          "THA",
          "TKM",
          "TTO",
          "TUN",
          "TUR",
          "TWN",
          "TZA",
          "UGA",
          "UKR",
          "URY",
          "USA",
          "UZB",
          "VCT",
          "VEN",
          "VNM",
          "WSM",
          "YEM",
          "ZAF",
          "ZMB",
          "ZWE"
         ],
         "marker": {
          "line": {
           "color": "rgb(180,180,180)",
           "width": 0.5
          }
         },
         "type": "choropleth",
         "uid": "bf0659ba-ef1c-11e8-9e00-b4b68690f880",
         "z": [
          3,
          2,
          1,
          14,
          1,
          184,
          102,
          38,
          788,
          114,
          26,
          1,
          146,
          4,
          1,
          228,
          63,
          9,
          3,
          13,
          53,
          1,
          3,
          22,
          600,
          7,
          1,
          6,
          1430,
          271,
          67,
          1352,
          1,
          10,
          1,
          170,
          1,
          34,
          1,
          4,
          1,
          10,
          86,
          1230,
          2,
          139,
          27,
          42,
          43,
          579,
          406,
          31,
          17,
          164,
          2,
          549,
          1,
          2403,
          20,
          32,
          1,
          1,
          146,
          38,
          1,
          4,
          546,
          4,
          43,
          3,
          96,
          115,
          2,
          8954,
          197,
          42,
          16,
          15,
          247,
          325,
          14,
          1,
          44,
          441,
          58,
          40,
          10,
          12,
          532,
          19,
          28,
          2,
          5,
          1,
          65,
          1,
          31,
          25,
          8,
          24,
          82,
          1,
          15,
          4,
          7,
          352,
          11,
          11,
          25,
          4,
          12,
          4,
          2,
          10,
          1,
          150,
          145,
          105,
          1,
          478,
          85,
          86,
          93,
          14,
          412,
          10,
          92,
          105,
          1,
          313,
          11,
          106,
          8,
          5,
          28,
          1,
          126,
          770,
          12,
          152,
          6,
          11,
          609,
          9,
          2,
          48,
          1,
          24,
          30,
          209,
          2,
          2,
          28,
          1,
          2,
          178,
          2,
          15,
          45,
          291,
          309,
          9,
          7,
          285,
          9,
          12900,
          5,
          1,
          19,
          316,
          1,
          4,
          166,
          5,
          7
         ]
        }
       ],
       "layout": {
        "geo": {
         "projection": {
          "type": "orthographic"
         },
         "showcoastlines": false,
         "showframe": true
        },
        "height": 800,
        "width": 800
       }
      },
      "text/html": [
       "<div id=\"abcf774e-99dc-4ffd-95a5-8950d5d61579\" style=\"height: 800px; width: 800px;\" class=\"plotly-graph-div\"></div><script type=\"text/javascript\">require([\"plotly\"], function(Plotly) { window.PLOTLYENV=window.PLOTLYENV || {};window.PLOTLYENV.BASE_URL=\"https://plot.ly\";Plotly.newPlot(\"abcf774e-99dc-4ffd-95a5-8950d5d61579\", [{\"autocolorscale\": false, \"colorscale\": [[0.0, \"rgb(242,240,247)\"], [0.2, \"rgb(218,218,235)\"], [0.4, \"rgb(188,189,220)\"], [0.6, \"rgb(158,154,200)\"], [0.8, \"rgb(117,107,177)\"], [1.0, \"rgb(84,39,143)\"]], \"locations\": [\"AFG\", \"AGO\", \"AIA\", \"ALB\", \"AND\", \"ARE\", \"ARG\", \"ARM\", \"AUS\", \"AUT\", \"AZE\", \"BDI\", \"BEL\", \"BEN\", \"BFA\", \"BGD\", \"BGR\", \"BHR\", \"BHS\", \"BIH\", \"BLR\", \"BLZ\", \"BMU\", \"BOL\", \"BRA\", \"BRB\", \"BRN\", \"BWA\", \"CAN\", \"CHE\", \"CHL\", \"CHN\", \"CIV\", \"CMR\", \"COD\", \"COL\", \"CPV\", \"CRI\", \"CUB\", \"CUW\", \"CYM\", \"CYP\", \"CZE\", \"DEU\", \"DJI\", \"DNK\", \"DOM\", \"DZA\", \"ECU\", \"EGY\", \"ESP\", \"EST\", \"ETH\", \"FIN\", \"FJI\", \"FRA\", \"GAB\", \"GBR\", \"GEO\", \"GHA\", \"GIB\", \"GLP\", \"GRC\", \"GTM\", \"GUM\", \"GUY\", \"HKG\", \"HND\", \"HRV\", \"HTI\", \"HUN\", \"IDN\", \"IMN\", \"IND\", \"IRL\", \"IRN\", \"IRQ\", \"ISL\", \"ISR\", \"ITA\", \"JAM\", \"JEY\", \"JOR\", \"JPN\", \"KAZ\", \"KEN\", \"KGZ\", \"KHM\", \"KOR\", \"KWT\", \"LBN\", \"LBR\", \"LBY\", \"LIE\", \"LKA\", \"LSO\", \"LTU\", \"LUX\", \"LVA\", \"MAC\", \"MAR\", \"MCO\", \"MDA\", \"MDG\", \"MDV\", \"MEX\", \"MKD\", \"MLT\", \"MMR\", \"MNE\", \"MNG\", \"MOZ\", \"MRT\", \"MUS\", \"MWI\", \"MYS\", \"NAM\", \"NGA\", \"NIC\", \"NLD\", \"NOR\", \"NPL\", \"NZL\", \"OMN\", \"PAK\", \"PAN\", \"PER\", \"PHL\", \"PNG\", \"POL\", \"PRI\", \"PRT\", \"PRY\", \"PSE\", \"QAT\", \"REU\", \"ROU\", \"RUS\", \"RWA\", \"SAU\", \"SDN\", \"SEN\", \"SGP\", \"SLV\", \"SOM\", \"SRB\", \"SUR\", \"SVK\", \"SVN\", \"SWE\", \"SWZ\", \"SYC\", \"SYR\", \"TCA\", \"TGO\", \"THA\", \"TKM\", \"TTO\", \"TUN\", \"TUR\", \"TWN\", \"TZA\", \"UGA\", \"UKR\", \"URY\", \"USA\", \"UZB\", \"VCT\", \"VEN\", \"VNM\", \"WSM\", \"YEM\", \"ZAF\", \"ZMB\", \"ZWE\"], \"marker\": {\"line\": {\"color\": \"rgb(180,180,180)\", \"width\": 0.5}}, \"z\": [3, 2, 1, 14, 1, 184, 102, 38, 788, 114, 26, 1, 146, 4, 1, 228, 63, 9, 3, 13, 53, 1, 3, 22, 600, 7, 1, 6, 1430, 271, 67, 1352, 1, 10, 1, 170, 1, 34, 1, 4, 1, 10, 86, 1230, 2, 139, 27, 42, 43, 579, 406, 31, 17, 164, 2, 549, 1, 2403, 20, 32, 1, 1, 146, 38, 1, 4, 546, 4, 43, 3, 96, 115, 2, 8954, 197, 42, 16, 15, 247, 325, 14, 1, 44, 441, 58, 40, 10, 12, 532, 19, 28, 2, 5, 1, 65, 1, 31, 25, 8, 24, 82, 1, 15, 4, 7, 352, 11, 11, 25, 4, 12, 4, 2, 10, 1, 150, 145, 105, 1, 478, 85, 86, 93, 14, 412, 10, 92, 105, 1, 313, 11, 106, 8, 5, 28, 1, 126, 770, 12, 152, 6, 11, 609, 9, 2, 48, 1, 24, 30, 209, 2, 2, 28, 1, 2, 178, 2, 15, 45, 291, 309, 9, 7, 285, 9, 12900, 5, 1, 19, 316, 1, 4, 166, 5, 7], \"type\": \"choropleth\", \"uid\": \"c01fa826-ef1c-11e8-951e-b4b68690f880\"}], {\"geo\": {\"projection\": {\"type\": \"orthographic\"}, \"showcoastlines\": false, \"showframe\": true}, \"height\": 800, \"width\": 800}, {\"showLink\": true, \"linkText\": \"Export to plot.ly\"})});</script>"
      ],
      "text/vnd.plotly.v1+html": [
       "<div id=\"abcf774e-99dc-4ffd-95a5-8950d5d61579\" style=\"height: 800px; width: 800px;\" class=\"plotly-graph-div\"></div><script type=\"text/javascript\">require([\"plotly\"], function(Plotly) { window.PLOTLYENV=window.PLOTLYENV || {};window.PLOTLYENV.BASE_URL=\"https://plot.ly\";Plotly.newPlot(\"abcf774e-99dc-4ffd-95a5-8950d5d61579\", [{\"autocolorscale\": false, \"colorscale\": [[0.0, \"rgb(242,240,247)\"], [0.2, \"rgb(218,218,235)\"], [0.4, \"rgb(188,189,220)\"], [0.6, \"rgb(158,154,200)\"], [0.8, \"rgb(117,107,177)\"], [1.0, \"rgb(84,39,143)\"]], \"locations\": [\"AFG\", \"AGO\", \"AIA\", \"ALB\", \"AND\", \"ARE\", \"ARG\", \"ARM\", \"AUS\", \"AUT\", \"AZE\", \"BDI\", \"BEL\", \"BEN\", \"BFA\", \"BGD\", \"BGR\", \"BHR\", \"BHS\", \"BIH\", \"BLR\", \"BLZ\", \"BMU\", \"BOL\", \"BRA\", \"BRB\", \"BRN\", \"BWA\", \"CAN\", \"CHE\", \"CHL\", \"CHN\", \"CIV\", \"CMR\", \"COD\", \"COL\", \"CPV\", \"CRI\", \"CUB\", \"CUW\", \"CYM\", \"CYP\", \"CZE\", \"DEU\", \"DJI\", \"DNK\", \"DOM\", \"DZA\", \"ECU\", \"EGY\", \"ESP\", \"EST\", \"ETH\", \"FIN\", \"FJI\", \"FRA\", \"GAB\", \"GBR\", \"GEO\", \"GHA\", \"GIB\", \"GLP\", \"GRC\", \"GTM\", \"GUM\", \"GUY\", \"HKG\", \"HND\", \"HRV\", \"HTI\", \"HUN\", \"IDN\", \"IMN\", \"IND\", \"IRL\", \"IRN\", \"IRQ\", \"ISL\", \"ISR\", \"ITA\", \"JAM\", \"JEY\", \"JOR\", \"JPN\", \"KAZ\", \"KEN\", \"KGZ\", \"KHM\", \"KOR\", \"KWT\", \"LBN\", \"LBR\", \"LBY\", \"LIE\", \"LKA\", \"LSO\", \"LTU\", \"LUX\", \"LVA\", \"MAC\", \"MAR\", \"MCO\", \"MDA\", \"MDG\", \"MDV\", \"MEX\", \"MKD\", \"MLT\", \"MMR\", \"MNE\", \"MNG\", \"MOZ\", \"MRT\", \"MUS\", \"MWI\", \"MYS\", \"NAM\", \"NGA\", \"NIC\", \"NLD\", \"NOR\", \"NPL\", \"NZL\", \"OMN\", \"PAK\", \"PAN\", \"PER\", \"PHL\", \"PNG\", \"POL\", \"PRI\", \"PRT\", \"PRY\", \"PSE\", \"QAT\", \"REU\", \"ROU\", \"RUS\", \"RWA\", \"SAU\", \"SDN\", \"SEN\", \"SGP\", \"SLV\", \"SOM\", \"SRB\", \"SUR\", \"SVK\", \"SVN\", \"SWE\", \"SWZ\", \"SYC\", \"SYR\", \"TCA\", \"TGO\", \"THA\", \"TKM\", \"TTO\", \"TUN\", \"TUR\", \"TWN\", \"TZA\", \"UGA\", \"UKR\", \"URY\", \"USA\", \"UZB\", \"VCT\", \"VEN\", \"VNM\", \"WSM\", \"YEM\", \"ZAF\", \"ZMB\", \"ZWE\"], \"marker\": {\"line\": {\"color\": \"rgb(180,180,180)\", \"width\": 0.5}}, \"z\": [3, 2, 1, 14, 1, 184, 102, 38, 788, 114, 26, 1, 146, 4, 1, 228, 63, 9, 3, 13, 53, 1, 3, 22, 600, 7, 1, 6, 1430, 271, 67, 1352, 1, 10, 1, 170, 1, 34, 1, 4, 1, 10, 86, 1230, 2, 139, 27, 42, 43, 579, 406, 31, 17, 164, 2, 549, 1, 2403, 20, 32, 1, 1, 146, 38, 1, 4, 546, 4, 43, 3, 96, 115, 2, 8954, 197, 42, 16, 15, 247, 325, 14, 1, 44, 441, 58, 40, 10, 12, 532, 19, 28, 2, 5, 1, 65, 1, 31, 25, 8, 24, 82, 1, 15, 4, 7, 352, 11, 11, 25, 4, 12, 4, 2, 10, 1, 150, 145, 105, 1, 478, 85, 86, 93, 14, 412, 10, 92, 105, 1, 313, 11, 106, 8, 5, 28, 1, 126, 770, 12, 152, 6, 11, 609, 9, 2, 48, 1, 24, 30, 209, 2, 2, 28, 1, 2, 178, 2, 15, 45, 291, 309, 9, 7, 285, 9, 12900, 5, 1, 19, 316, 1, 4, 166, 5, 7], \"type\": \"choropleth\", \"uid\": \"c01fa826-ef1c-11e8-951e-b4b68690f880\"}], {\"geo\": {\"projection\": {\"type\": \"orthographic\"}, \"showcoastlines\": false, \"showframe\": true}, \"height\": 800, \"width\": 800}, {\"showLink\": true, \"linkText\": \"Export to plot.ly\"})});</script>"
      ]
     },
     "metadata": {},
     "output_type": "display_data"
    }
   ],
   "source": [
    "print('Total number of students to date:', total )\n",
    "countries (gb, 'Anonymized Coursera ID (imperial_user_id)')\n"
   ]
  },
  {
   "cell_type": "markdown",
   "metadata": {},
   "source": [
    "# Total numbers of learners per notebook "
   ]
  },
  {
   "cell_type": "code",
   "execution_count": 6,
   "metadata": {},
   "outputs": [
    {
     "name": "stdout",
     "output_type": "stream",
     "text": [
      "Total number of learners:  5681\n"
     ]
    },
    {
     "data": {
      "application/vnd.plotly.v1+json": {
       "data": [
        {
         "opacity": 0.6,
         "type": "bar",
         "uid": "c11908a4-ef1c-11e8-b130-b4b68690f880",
         "x": [
          "Identifying special matrices",
          "Gram Schmidt",
          "Reflecting Bear",
          "submission.json"
         ],
         "y": [
          5622,
          4324,
          4183,
          3934
         ]
        }
       ],
       "layout": {}
      },
      "text/html": [
       "<div id=\"55aee403-3980-44b5-8318-f443bf1e3056\" style=\"height: 525px; width: 100%;\" class=\"plotly-graph-div\"></div><script type=\"text/javascript\">require([\"plotly\"], function(Plotly) { window.PLOTLYENV=window.PLOTLYENV || {};window.PLOTLYENV.BASE_URL=\"https://plot.ly\";Plotly.newPlot(\"55aee403-3980-44b5-8318-f443bf1e3056\", [{\"opacity\": 0.6, \"x\": [\"Identifying special matrices\", \"Gram Schmidt\", \"Reflecting Bear\", \"submission.json\"], \"y\": [5622.0, 4324.0, 4183.0, 3934.0], \"type\": \"bar\", \"uid\": \"c11cdc82-ef1c-11e8-84e1-b4b68690f880\"}], {}, {\"showLink\": true, \"linkText\": \"Export to plot.ly\"})});</script>"
      ],
      "text/vnd.plotly.v1+html": [
       "<div id=\"55aee403-3980-44b5-8318-f443bf1e3056\" style=\"height: 525px; width: 100%;\" class=\"plotly-graph-div\"></div><script type=\"text/javascript\">require([\"plotly\"], function(Plotly) { window.PLOTLYENV=window.PLOTLYENV || {};window.PLOTLYENV.BASE_URL=\"https://plot.ly\";Plotly.newPlot(\"55aee403-3980-44b5-8318-f443bf1e3056\", [{\"opacity\": 0.6, \"x\": [\"Identifying special matrices\", \"Gram Schmidt\", \"Reflecting Bear\", \"submission.json\"], \"y\": [5622.0, 4324.0, 4183.0, 3934.0], \"type\": \"bar\", \"uid\": \"c11cdc82-ef1c-11e8-84e1-b4b68690f880\"}], {}, {\"showLink\": true, \"linkText\": \"Export to plot.ly\"})});</script>"
      ]
     },
     "metadata": {},
     "output_type": "display_data"
    }
   ],
   "source": [
    "totallearners = df2['imperial_user_id'].nunique()\n",
    "\n",
    "print('Total number of learners: ', totallearners)\n",
    "\n",
    "d2 = df2.groupby('programming_assignment_submission_schema_part_title').nunique()\n",
    "\n",
    "d2['submission_rate'] = d2['programming_submission_id']/d2['imperial_user_id']\n",
    "\n",
    "d2.drop(d2[d2.imperial_user_id < 100].index, inplace=True)\n",
    "\n",
    "ordered_index = ['Identifying special matrices', 'Gram Schmidt', 'Reflecting Bear',\n",
    "       'submission.json']\n",
    "\n",
    "d2 = d2.reindex(ordered_index)\n",
    "\n",
    "\n",
    "data = [\n",
    "    go.Bar(\n",
    "        x=d2.index, # assign x as the dataframe column 'x'\n",
    "        y=d2['imperial_user_id'],\n",
    "        opacity=0.6\n",
    "    )\n",
    "]\n",
    "\n",
    "\n",
    "py.iplot(data, filename='basic-bar')"
   ]
  },
  {
   "cell_type": "markdown",
   "metadata": {},
   "source": [
    "# Attempts per learner"
   ]
  },
  {
   "cell_type": "code",
   "execution_count": 7,
   "metadata": {
    "extensions": {
     "jupyter_dashboards": {
      "version": 1,
      "views": {
       "grid_default": {
        "col": 0,
        "height": 19,
        "hidden": false,
        "row": 4,
        "width": 4
       },
       "report_default": {
        "hidden": false
       }
      }
     }
    }
   },
   "outputs": [
    {
     "data": {
      "application/vnd.plotly.v1+json": {
       "data": [
        {
         "opacity": 0.6,
         "type": "bar",
         "uid": "c16fde8a-ef1c-11e8-9997-b4b68690f880",
         "x": [
          "Identifying special matrices",
          "Gram Schmidt",
          "Reflecting Bear",
          "submission.json"
         ],
         "y": [
          3.2746353610814656,
          2.317298797409806,
          2.3368395888118574,
          2.6962379257752924
         ]
        }
       ],
       "layout": {}
      },
      "text/html": [
       "<div id=\"6c5e23e1-c3b5-49bb-9d80-3d36ce4dc0c7\" style=\"height: 525px; width: 100%;\" class=\"plotly-graph-div\"></div><script type=\"text/javascript\">require([\"plotly\"], function(Plotly) { window.PLOTLYENV=window.PLOTLYENV || {};window.PLOTLYENV.BASE_URL=\"https://plot.ly\";Plotly.newPlot(\"6c5e23e1-c3b5-49bb-9d80-3d36ce4dc0c7\", [{\"opacity\": 0.6, \"x\": [\"Identifying special matrices\", \"Gram Schmidt\", \"Reflecting Bear\", \"submission.json\"], \"y\": [3.2746353610814656, 2.317298797409806, 2.3368395888118574, 2.6962379257752924], \"type\": \"bar\", \"uid\": \"c174f6ae-ef1c-11e8-a027-b4b68690f880\"}], {}, {\"showLink\": true, \"linkText\": \"Export to plot.ly\"})});</script>"
      ],
      "text/vnd.plotly.v1+html": [
       "<div id=\"6c5e23e1-c3b5-49bb-9d80-3d36ce4dc0c7\" style=\"height: 525px; width: 100%;\" class=\"plotly-graph-div\"></div><script type=\"text/javascript\">require([\"plotly\"], function(Plotly) { window.PLOTLYENV=window.PLOTLYENV || {};window.PLOTLYENV.BASE_URL=\"https://plot.ly\";Plotly.newPlot(\"6c5e23e1-c3b5-49bb-9d80-3d36ce4dc0c7\", [{\"opacity\": 0.6, \"x\": [\"Identifying special matrices\", \"Gram Schmidt\", \"Reflecting Bear\", \"submission.json\"], \"y\": [3.2746353610814656, 2.317298797409806, 2.3368395888118574, 2.6962379257752924], \"type\": \"bar\", \"uid\": \"c174f6ae-ef1c-11e8-a027-b4b68690f880\"}], {}, {\"showLink\": true, \"linkText\": \"Export to plot.ly\"})});</script>"
      ]
     },
     "metadata": {},
     "output_type": "display_data"
    }
   ],
   "source": [
    "\n",
    "d2 = df2.groupby('programming_assignment_submission_schema_part_title').nunique()\n",
    "\n",
    "d2['submission_rate'] = d2['programming_submission_id']/d2['imperial_user_id']\n",
    "\n",
    "d2.drop(d2[d2.imperial_user_id < 100].index, inplace=True)\n",
    "\n",
    "ordered_index = ['Identifying special matrices', 'Gram Schmidt', 'Reflecting Bear',\n",
    "       'submission.json']\n",
    "\n",
    "d2 = d2.reindex(ordered_index)\n",
    "\n",
    "data = [\n",
    "    go.Bar(\n",
    "        x=d2.index, # assign x as the dataframe column 'x'\n",
    "        y=d2['submission_rate'],\n",
    "        opacity=0.6\n",
    "    )\n",
    "]\n",
    "\n",
    "\n",
    "py.iplot(data, filename='basic-bar')"
   ]
  },
  {
   "cell_type": "markdown",
   "metadata": {},
   "source": [
    "# Passes / fails"
   ]
  },
  {
   "cell_type": "code",
   "execution_count": 8,
   "metadata": {},
   "outputs": [
    {
     "data": {
      "application/vnd.plotly.v1+json": {
       "data": [
        {
         "marker": {
          "color": "red"
         },
         "name": "Failed",
         "opacity": 0.6,
         "type": "bar",
         "uid": "c1abf3c6-ef1c-11e8-8f9e-b4b68690f880",
         "x": [
          "Identifying special matrices",
          "Gram Schmidt",
          "Reflecting Bear",
          "submission.json"
         ],
         "y": [
          12164,
          5249,
          5161,
          6357
         ]
        },
        {
         "marker": {
          "color": "blue"
         },
         "name": "Passed",
         "opacity": 0.6,
         "type": "bar",
         "uid": "c1abf3c7-ef1c-11e8-a8a3-b4b68690f880",
         "x": [
          "Identifying special matrices",
          "Gram Schmidt",
          "Reflecting Bear",
          "submission.json"
         ],
         "y": [
          6021,
          4646,
          4462,
          4056
         ]
        }
       ],
       "layout": {
        "barmode": "stack"
       }
      },
      "text/html": [
       "<div id=\"fba517a8-c180-403e-bd91-740aa0113500\" style=\"height: 525px; width: 100%;\" class=\"plotly-graph-div\"></div><script type=\"text/javascript\">require([\"plotly\"], function(Plotly) { window.PLOTLYENV=window.PLOTLYENV || {};window.PLOTLYENV.BASE_URL=\"https://plot.ly\";\n",
       "        Plotly.plot(\n",
       "            'fba517a8-c180-403e-bd91-740aa0113500',\n",
       "            [{\"marker\": {\"color\": \"red\"}, \"name\": \"Failed\", \"opacity\": 0.6, \"x\": [\"Identifying special matrices\", \"Gram Schmidt\", \"Reflecting Bear\", \"submission.json\"], \"y\": [12164, 5249, 5161, 6357], \"type\": \"bar\", \"uid\": \"c1abf3c6-ef1c-11e8-8f9e-b4b68690f880\"}, {\"marker\": {\"color\": \"blue\"}, \"name\": \"Passed\", \"opacity\": 0.6, \"x\": [\"Identifying special matrices\", \"Gram Schmidt\", \"Reflecting Bear\", \"submission.json\"], \"y\": [6021, 4646, 4462, 4056], \"type\": \"bar\", \"uid\": \"c1abf3c7-ef1c-11e8-a8a3-b4b68690f880\"}],\n",
       "            {\"barmode\": \"stack\"},\n",
       "            {\"showLink\": true, \"linkText\": \"Export to plot.ly\"}\n",
       "        ).then(function () {return Plotly.addFrames('fba517a8-c180-403e-bd91-740aa0113500',{});}).then(function(){Plotly.animate('fba517a8-c180-403e-bd91-740aa0113500');})\n",
       "        });</script>"
      ],
      "text/vnd.plotly.v1+html": [
       "<div id=\"fba517a8-c180-403e-bd91-740aa0113500\" style=\"height: 525px; width: 100%;\" class=\"plotly-graph-div\"></div><script type=\"text/javascript\">require([\"plotly\"], function(Plotly) { window.PLOTLYENV=window.PLOTLYENV || {};window.PLOTLYENV.BASE_URL=\"https://plot.ly\";\n",
       "        Plotly.plot(\n",
       "            'fba517a8-c180-403e-bd91-740aa0113500',\n",
       "            [{\"marker\": {\"color\": \"red\"}, \"name\": \"Failed\", \"opacity\": 0.6, \"x\": [\"Identifying special matrices\", \"Gram Schmidt\", \"Reflecting Bear\", \"submission.json\"], \"y\": [12164, 5249, 5161, 6357], \"type\": \"bar\", \"uid\": \"c1abf3c6-ef1c-11e8-8f9e-b4b68690f880\"}, {\"marker\": {\"color\": \"blue\"}, \"name\": \"Passed\", \"opacity\": 0.6, \"x\": [\"Identifying special matrices\", \"Gram Schmidt\", \"Reflecting Bear\", \"submission.json\"], \"y\": [6021, 4646, 4462, 4056], \"type\": \"bar\", \"uid\": \"c1abf3c7-ef1c-11e8-a8a3-b4b68690f880\"}],\n",
       "            {\"barmode\": \"stack\"},\n",
       "            {\"showLink\": true, \"linkText\": \"Export to plot.ly\"}\n",
       "        ).then(function () {return Plotly.addFrames('fba517a8-c180-403e-bd91-740aa0113500',{});}).then(function(){Plotly.animate('fba517a8-c180-403e-bd91-740aa0113500');})\n",
       "        });</script>"
      ]
     },
     "metadata": {},
     "output_type": "display_data"
    }
   ],
   "source": [
    "totalattempts = df2['programming_submission_id'].nunique()\n",
    "\n",
    "ism = df2.loc[df2['programming_assignment_submission_schema_part_title'] == 'Identifying special matrices']\n",
    "gs = df2.loc[df2['programming_assignment_submission_schema_part_title'] == 'Gram Schmidt']\n",
    "rb = df2.loc[df2['programming_assignment_submission_schema_part_title'] == 'Reflecting Bear']\n",
    "fs = df2.loc[df2['programming_assignment_submission_schema_part_title'] == 'submission.json']\n",
    "\n",
    "\n",
    "def passed(df2):\n",
    "    pass_fail = df2.loc[:,'programming_submission_score'].groupby(df2.loc[:,'programming_submission_score']).count()\n",
    "    passed = sum(pass_fail[pass_fail.index >= 8])\n",
    "    return passed\n",
    "\n",
    "def failed(df2):\n",
    "    pass_fail = df2.loc[:,'programming_submission_score'].groupby(df2.loc[:,'programming_submission_score']).count()\n",
    "    failed = sum(pass_fail[pass_fail.index < 8])\n",
    "    return failed\n",
    "\n",
    "# data = [\n",
    "#     go.Bar(\n",
    "#             x=['total attempts', 'failed', 'passed'],\n",
    "#             y=[totalattempts, failed, passed]\n",
    "#     )\n",
    "# ]\n",
    "\n",
    "\n",
    "# py.iplot(data, filename='basic-bar')\n",
    "\n",
    "\n",
    "trace2 = go.Bar(\n",
    "    x=['Identifying special matrices', 'Gram Schmidt', 'Reflecting Bear',\n",
    "       'submission.json'],\n",
    "    y=[passed(ism),passed(gs),passed(rb),passed(fs)],\n",
    "    name='Passed',\n",
    "    marker = dict(\n",
    "          color = 'blue'),\n",
    "    opacity=0.6\n",
    ")\n",
    "trace1 = go.Bar(\n",
    "    x=['Identifying special matrices', 'Gram Schmidt', 'Reflecting Bear',\n",
    "       'submission.json'],\n",
    "    y=[failed(ism),failed(gs),failed(rb),failed(fs)],\n",
    "    name='Failed',\n",
    "    marker = dict(\n",
    "          color = 'red'),\n",
    "     opacity=0.6\n",
    ")\n",
    "\n",
    "data = [trace1, trace2]\n",
    "layout = go.Layout(\n",
    "    barmode='stack'\n",
    ")\n",
    "\n",
    "fig = go.Figure(data=data, layout=layout)\n",
    "py.iplot(fig, filename='stacked-bar')"
   ]
  },
  {
   "cell_type": "code",
   "execution_count": null,
   "metadata": {},
   "outputs": [],
   "source": []
  },
  {
   "cell_type": "code",
   "execution_count": null,
   "metadata": {
    "extensions": {
     "jupyter_dashboards": {
      "version": 1,
      "views": {
       "grid_default": {
        "hidden": true
       },
       "report_default": {
        "hidden": true
       }
      }
     }
    }
   },
   "outputs": [],
   "source": []
  }
 ],
 "metadata": {
  "extensions": {
   "jupyter_dashboards": {
    "activeView": "report_default",
    "version": 1,
    "views": {
     "grid_default": {
      "cellMargin": 10,
      "defaultCellHeight": 20,
      "maxColumns": 12,
      "name": "grid",
      "type": "grid"
     },
     "report_default": {
      "name": "report",
      "type": "report"
     }
    }
   }
  },
  "kernelspec": {
   "display_name": "Python 3",
   "language": "python",
   "name": "python3"
  },
  "language_info": {
   "codemirror_mode": {
    "name": "ipython",
    "version": 3
   },
   "file_extension": ".py",
   "mimetype": "text/x-python",
   "name": "python",
   "nbconvert_exporter": "python",
   "pygments_lexer": "ipython3",
   "version": "3.6.4"
  }
 },
 "nbformat": 4,
 "nbformat_minor": 2
}
