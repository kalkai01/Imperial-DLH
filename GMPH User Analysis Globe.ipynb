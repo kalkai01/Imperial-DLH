{
 "cells": [
  {
   "cell_type": "markdown",
   "metadata": {
    "extensions": {
     "jupyter_dashboards": {
      "version": 1,
      "views": {
       "grid_default": {
        "col": 0,
        "height": 4,
        "hidden": false,
        "row": 0,
        "width": 4
       },
       "report_default": {
        "hidden": false
       }
      }
     }
    }
   },
   "source": [
    "# GMPH User Analysis\n"
   ]
  },
  {
   "cell_type": "code",
   "execution_count": 145,
   "metadata": {
    "extensions": {
     "jupyter_dashboards": {
      "version": 1,
      "views": {
       "grid_default": {
        "hidden": true
       },
       "report_default": {
        "hidden": true
       }
      }
     }
    }
   },
   "outputs": [
    {
     "data": {
      "text/html": [
       "<script>jQuery(function() {if (jQuery(\"body.notebook_app\").length == 0) { jQuery(\".input_area\").toggle(); jQuery(\".prompt\").toggle();}});</script>"
      ]
     },
     "metadata": {},
     "output_type": "display_data"
    },
    {
     "data": {
      "text/html": [
       "<button onclick=\"jQuery('.input_area').toggle(); jQuery('.prompt').toggle();\">Show / Hide Code</button>"
      ]
     },
     "metadata": {},
     "output_type": "display_data"
    },
    {
     "data": {
      "text/html": [
       "<script>requirejs.config({paths: { 'plotly': ['https://cdn.plot.ly/plotly-latest.min']},});if(!window.Plotly) {{require(['plotly'],function(plotly) {window.Plotly=plotly;});}}</script>"
      ],
      "text/vnd.plotly.v1+html": [
       "<script>requirejs.config({paths: { 'plotly': ['https://cdn.plot.ly/plotly-latest.min']},});if(!window.Plotly) {{require(['plotly'],function(plotly) {window.Plotly=plotly;});}}</script>"
      ]
     },
     "metadata": {},
     "output_type": "display_data"
    }
   ],
   "source": [
    "from datetime import datetime as dt\n",
    "time = dt.now\n",
    "import numpy as np\n",
    "import pandas as pd\n",
    "import matplotlib as plt\n",
    "import plotly.offline as py\n",
    "import plotly.graph_objs as go\n",
    "\n",
    "import IPython.core.display as di\n",
    "\n",
    "# This line will hide code by default when the notebook is exported as HTML\n",
    "di.display_html('<script>jQuery(function() {if (jQuery(\"body.notebook_app\").length == 0) { jQuery(\".input_area\").toggle(); jQuery(\".prompt\").toggle();}});</script>', raw=True)\n",
    "\n",
    "# This line will add a button to toggle visibility of code blocks, for use with the HTML export version\n",
    "di.display_html('''<button onclick=\"jQuery('.input_area').toggle(); jQuery('.prompt').toggle();\">Show / Hide Code</button>''', raw=True)\n",
    "\n",
    "\n",
    "py.init_notebook_mode(connected=True)\n"
   ]
  },
  {
   "cell_type": "code",
   "execution_count": 135,
   "metadata": {
    "extensions": {
     "jupyter_dashboards": {
      "version": 1,
      "views": {
       "grid_default": {
        "hidden": true
       },
       "report_default": {
        "hidden": true
       }
      }
     }
    },
    "scrolled": false
   },
   "outputs": [],
   "source": [
    "users = pd.read_csv('../Data/users.csv')\n",
    "#users = users.set_index('imperial_user_id')\n",
    "courses = pd.read_csv('../Data/courses.csv')\n",
    "course_memberships = pd.read_csv('../Data/course_memberships.csv')\n",
    "country_codes = pd.read_csv('../Data/ISO_country_codes.csv')\n",
    "\n",
    "## this sets the index of  the country_codes table to the two letter code, making it easy to join with the 'country_cd' column in df"
   ]
  },
  {
   "cell_type": "markdown",
   "metadata": {
    "extensions": {
     "jupyter_dashboards": {
      "version": 1,
      "views": {
       "grid_default": {},
       "report_default": {
        "hidden": true
       }
      }
     }
    }
   },
   "source": [
    "### Courses included in analysis"
   ]
  },
  {
   "cell_type": "code",
   "execution_count": 136,
   "metadata": {
    "extensions": {
     "jupyter_dashboards": {
      "version": 1,
      "views": {
       "grid_default": {},
       "report_default": {
        "hidden": false
       }
      }
     }
    }
   },
   "outputs": [
    {
     "data": {
      "text/html": [
       "<div>\n",
       "<style scoped>\n",
       "    .dataframe tbody tr th:only-of-type {\n",
       "        vertical-align: middle;\n",
       "    }\n",
       "\n",
       "    .dataframe tbody tr th {\n",
       "        vertical-align: top;\n",
       "    }\n",
       "\n",
       "    .dataframe thead th {\n",
       "        text-align: right;\n",
       "    }\n",
       "</style>\n",
       "<table border=\"1\" class=\"dataframe\">\n",
       "  <thead>\n",
       "    <tr style=\"text-align: right;\">\n",
       "      <th></th>\n",
       "      <th>course_name</th>\n",
       "      <th>course_launch_ts</th>\n",
       "    </tr>\n",
       "  </thead>\n",
       "  <tbody>\n",
       "    <tr>\n",
       "      <th>11</th>\n",
       "      <td>Survival Analysis in R for Public Health</td>\n",
       "      <td>2019-01-18 19:51:50.908</td>\n",
       "    </tr>\n",
       "    <tr>\n",
       "      <th>34</th>\n",
       "      <td>Introduction to Statistics &amp; Data Analysis in ...</td>\n",
       "      <td>2019-01-18 20:33:23.414</td>\n",
       "    </tr>\n",
       "    <tr>\n",
       "      <th>24</th>\n",
       "      <td>Linear Regression in R for Public Health</td>\n",
       "      <td>2019-01-18 20:35:31.551</td>\n",
       "    </tr>\n",
       "    <tr>\n",
       "      <th>47</th>\n",
       "      <td>Logistic Regression in R for Public Health</td>\n",
       "      <td>2019-01-18 20:37:18.675</td>\n",
       "    </tr>\n",
       "    <tr>\n",
       "      <th>10</th>\n",
       "      <td>Measuring Disease in Epidemiology</td>\n",
       "      <td>2019-02-22 17:13:18.88</td>\n",
       "    </tr>\n",
       "    <tr>\n",
       "      <th>41</th>\n",
       "      <td>Study Designs in Epidemiology</td>\n",
       "      <td>2019-02-22 17:16:54.621</td>\n",
       "    </tr>\n",
       "    <tr>\n",
       "      <th>0</th>\n",
       "      <td>Validity and Bias in Epidemiology</td>\n",
       "      <td>2019-02-22 17:18:56.697</td>\n",
       "    </tr>\n",
       "  </tbody>\n",
       "</table>\n",
       "</div>"
      ],
      "text/plain": [
       "                                          course_name         course_launch_ts\n",
       "11           Survival Analysis in R for Public Health  2019-01-18 19:51:50.908\n",
       "34  Introduction to Statistics & Data Analysis in ...  2019-01-18 20:33:23.414\n",
       "24           Linear Regression in R for Public Health  2019-01-18 20:35:31.551\n",
       "47         Logistic Regression in R for Public Health  2019-01-18 20:37:18.675\n",
       "10                  Measuring Disease in Epidemiology   2019-02-22 17:13:18.88\n",
       "41                      Study Designs in Epidemiology  2019-02-22 17:16:54.621\n",
       "0                   Validity and Bias in Epidemiology  2019-02-22 17:18:56.697"
      ]
     },
     "execution_count": 136,
     "metadata": {},
     "output_type": "execute_result"
    }
   ],
   "source": [
    "courses = courses.dropna(subset=['course_launch_ts'])\n",
    "GMPHlist = ['HStXPFUPEeijOhIn2e06zA','wYVFrFUOEeiXDgqeSsw0yA','_o2ptFUOEeiN5g6qr8gNVg','HIWhL1UPEeiYKRJKvk-prg','hSFRplRqEeiPZBL0QYL46A','ApVo5lRrEeiGKxInOEegGg','Rtiw71RrEeiuag4cjofrng']\n",
    "GMPHcourses = courses[courses.course_id.isin(GMPHlist)]\n",
    "GMPHcourses.loc[:,['course_name', 'course_launch_ts']].sort_values('course_launch_ts')"
   ]
  },
  {
   "cell_type": "code",
   "execution_count": 140,
   "metadata": {
    "extensions": {
     "jupyter_dashboards": {
      "version": 1,
      "views": {
       "grid_default": {
        "col": 4,
        "height": 58,
        "hidden": false,
        "row": 0,
        "width": 4
       },
       "report_default": {
        "hidden": false
       }
      }
     }
    }
   },
   "outputs": [
    {
     "name": "stdout",
     "output_type": "stream",
     "text": [
      "Total users included in analysis: 1476\n"
     ]
    }
   ],
   "source": [
    "### Pull in additional country information from ISO data so that we have full country name and alpha3 code which is required for the worldview Plotly map\n",
    "users = users.merge(course_memberships, on = 'imperial_user_id')\n",
    "users = users.merge(country_codes, left_on = 'country_cd', right_on = 'alpha-2')\n",
    "GMPHusers = totalusers.merge(GMPHcourses, on = 'course_id')\n",
    "\n",
    "total = users['imperial_user_id'].nunique()\n",
    "GMPHtotal = GMPHusers['imperial_user_id'].nunique()\n",
    "print('Total users included in analysis: ' + str(GMPHtotal))\n",
    "### simply for easy viewing of fields:\n",
    "pretty = df.iloc[1].transpose()\n",
    "\n",
    "totalcountries = totalusers.groupby('alpha-3').count()\n",
    "GMPHcountries = GMPHusers.groupby('alpha-3').count()\n"
   ]
  },
  {
   "cell_type": "code",
   "execution_count": 70,
   "metadata": {
    "extensions": {
     "jupyter_dashboards": {
      "version": 1,
      "views": {
       "grid_default": {
        "hidden": true
       },
       "report_default": {
        "hidden": true
       }
      }
     }
    }
   },
   "outputs": [],
   "source": [
    "# 134462 all courses\n",
    "# 2714 GMPH\n",
    "\n",
    "def countries (df, column, divide_by=total):\n",
    "    \n",
    "    df1 = df.groupby('alpha-3').count()\n",
    "\n",
    "    data = [dict(\n",
    "            type = 'choropleth',\n",
    "            locations = df1.index.values,\n",
    "            z = df1[column],\n",
    "            text = round((df1[column]/divide_by)*100, 2),\n",
    "            colorscale = [[0,\"rgb(5, 10, 172)\"],[0.35,\"rgb(40, 60, 190)\"],[0.5,\"rgb(70, 100, 245)\"],\\\n",
    "                [0.6,\"rgb(90, 120, 245)\"],[0.7,\"rgb(106, 137, 247)\"],[1,\"rgb(220, 220, 220)\"]],\n",
    "            autocolorscale = False,\n",
    "            reversescale = True,\n",
    "            marker = dict(\n",
    "                line = dict (\n",
    "                    color = 'rgb(180,180,180)',\n",
    "                    width = 0.5\n",
    "                ) )\n",
    "          ) ]\n",
    "\n",
    "    layout = dict(\n",
    "        width = 1000,\n",
    "        height =  1000,\n",
    "        geo = dict(\n",
    "            showframe = False,\n",
    "            showcoastlines = False,\n",
    "            projection = dict(\n",
    "                type = 'orthographic'\n",
    "            )\n",
    "        )\n",
    "    )\n",
    "\n",
    "    fig = dict( data=data, layout=layout )\n",
    "    plot = py.iplot(fig)\n",
    "    \n",
    "    return plot\n",
    "\n"
   ]
  },
  {
   "cell_type": "code",
   "execution_count": 117,
   "metadata": {
    "extensions": {
     "jupyter_dashboards": {
      "version": 1,
      "views": {
       "grid_default": {
        "hidden": true
       },
       "report_default": {
        "hidden": true
       }
      }
     }
    }
   },
   "outputs": [],
   "source": [
    "def countries_ratio (df, var1, var2, normaliser):\n",
    "      \n",
    "    data = [dict(\n",
    "            type = 'choropleth',\n",
    "            locations = df.index.values,\n",
    "            z = round((var1/var2)*normaliser*100, 2),\n",
    "            colorscale=[[0.0, 'rgb(165,0,38)'], [0.1111111111111111, 'rgb(215,48,39)'], [0.2222222222222222, 'rgb(244,109,67)'], \n",
    "                        [0.3333333333333333, 'rgb(253,174,97)'], [0.4444444444444444, 'rgb(254,224,144)'], \n",
    "                        [0.5555555555555556, 'rgb(224,243,248)'], [0.6666666666666666, 'rgb(160,160,160)'], \n",
    "                        [1.0, 'rgb(120,120,120)']],\n",
    "            autocolorscale = False,\n",
    "            reversescale = True,\n",
    "            marker = dict(\n",
    "                line = dict (\n",
    "                    color = 'rgb(180,180,180)',\n",
    "                    width = 0.5\n",
    "                ) )\n",
    "          ) ]\n",
    "\n",
    "    layout = dict(\n",
    "        width = 1000,\n",
    "        height =  1000,\n",
    "        geo = dict(\n",
    "            showframe = False,\n",
    "            showcoastlines = False,\n",
    "            projection = dict(\n",
    "                type = 'mercator'\n",
    "            )\n",
    "        )\n",
    "    )\n",
    "\n",
    "    fig = dict( data=data, layout=layout )\n",
    "    plot = py.iplot( fig)\n",
    "    \n",
    "    return plot\n",
    "\n"
   ]
  },
  {
   "cell_type": "markdown",
   "metadata": {
    "extensions": {
     "jupyter_dashboards": {
      "version": 1,
      "views": {
       "grid_default": {},
       "report_default": {
        "hidden": false
       }
      }
     }
    }
   },
   "source": [
    "# Hover to see total users per country (top) and as % of all GMPH users (bottom)"
   ]
  },
  {
   "cell_type": "code",
   "execution_count": 133,
   "metadata": {
    "extensions": {
     "jupyter_dashboards": {
      "version": 1,
      "views": {
       "grid_default": {
        "col": 8,
        "height": 19,
        "hidden": false,
        "row": 0,
        "width": 4
       },
       "report_default": {
        "hidden": false
       }
      }
     }
    }
   },
   "outputs": [
    {
     "data": {
      "application/vnd.plotly.v1+json": {
       "data": [
        {
         "autocolorscale": false,
         "colorscale": [
          [
           0,
           "rgb(5, 10, 172)"
          ],
          [
           0.35,
           "rgb(40, 60, 190)"
          ],
          [
           0.5,
           "rgb(70, 100, 245)"
          ],
          [
           0.6,
           "rgb(90, 120, 245)"
          ],
          [
           0.7,
           "rgb(106, 137, 247)"
          ],
          [
           1,
           "rgb(220, 220, 220)"
          ]
         ],
         "locations": [
          "AFG",
          "ALB",
          "ARE",
          "ARG",
          "AUS",
          "AUT",
          "AZE",
          "BEL",
          "BGD",
          "BIH",
          "BLR",
          "BLZ",
          "BRA",
          "BRN",
          "BWA",
          "CAN",
          "CHE",
          "CHL",
          "CHN",
          "CMR",
          "COL",
          "CRI",
          "CZE",
          "DEU",
          "DNK",
          "DOM",
          "DZA",
          "ECU",
          "EGY",
          "ERI",
          "ESP",
          "ETH",
          "FIN",
          "FRA",
          "GBR",
          "GEO",
          "GHA",
          "GIN",
          "GMB",
          "GRC",
          "GTM",
          "GUY",
          "HKG",
          "HUN",
          "IDN",
          "IND",
          "IRL",
          "IRQ",
          "ISL",
          "ISR",
          "ITA",
          "JAM",
          "JOR",
          "JPN",
          "KAZ",
          "KEN",
          "KGZ",
          "KHM",
          "KOR",
          "KWT",
          "LAO",
          "LBN",
          "LKA",
          "LSO",
          "MAR",
          "MEX",
          "MLI",
          "MLT",
          "MMR",
          "MNE",
          "MUS",
          "MWI",
          "MYS",
          "NAM",
          "NGA",
          "NLD",
          "NOR",
          "NPL",
          "NZL",
          "OMN",
          "PAK",
          "PER",
          "PHL",
          "POL",
          "PRT",
          "QAT",
          "ROU",
          "RUS",
          "RWA",
          "SAU",
          "SGP",
          "SOM",
          "SRB",
          "SWE",
          "THA",
          "TTO",
          "TUN",
          "TUR",
          "TWN",
          "TZA",
          "UGA",
          "UKR",
          "URY",
          "USA",
          "VNM",
          "ZAF",
          "ZMB",
          "ZWE"
         ],
         "marker": {
          "line": {
           "color": "rgb(180,180,180)",
           "width": 0.5
          }
         },
         "reversescale": true,
         "text": [
          "0.07",
          "0.2",
          "0.95",
          "0.95",
          "3.86",
          "0.75",
          "0.14",
          "1.56",
          "1.29",
          "0.2",
          "0.14",
          "0.07",
          "6.37",
          "0.41",
          "0.14",
          "5.62",
          "2.17",
          "0.61",
          "2.64",
          "0.61",
          "1.49",
          "0.34",
          "0.41",
          "4.54",
          "0.27",
          "0.34",
          "0.54",
          "0.07",
          "1.9",
          "0.07",
          "2.1",
          "0.88",
          "0.07",
          "1.69",
          "20.8",
          "0.07",
          "1.63",
          "0.07",
          "0.07",
          "2.24",
          "0.07",
          "0.07",
          "1.56",
          "0.14",
          "0.54",
          "20.6",
          "0.88",
          "0.27",
          "0.27",
          "1.29",
          "1.96",
          "0.14",
          "0.47",
          "2.37",
          "0.34",
          "1.42",
          "0.47",
          "0.14",
          "1.83",
          "0.14",
          "0.2",
          "0.81",
          "0.2",
          "0.14",
          "0.34",
          "2.78",
          "0.47",
          "0.07",
          "0.34",
          "0.07",
          "0.07",
          "0.07",
          "1.49",
          "0.2",
          "2.64",
          "2.44",
          "0.47",
          "0.75",
          "0.88",
          "0.07",
          "2.03",
          "1.02",
          "0.07",
          "0.41",
          "0.81",
          "0.2",
          "0.54",
          "3.46",
          "0.34",
          "1.02",
          "2.91",
          "0.27",
          "0.07",
          "1.29",
          "0.2",
          "0.14",
          "0.2",
          "1.76",
          "0.81",
          "0.47",
          "0.34",
          "1.08",
          "0.27",
          "42.62",
          "1.49",
          "2.1",
          "0.14",
          "0.07"
         ],
         "type": "choropleth",
         "uid": "5a76d8c8-4fda-11e9-9246-b4b68690f880",
         "z": [
          1,
          3,
          14,
          14,
          57,
          11,
          2,
          23,
          19,
          3,
          2,
          1,
          94,
          6,
          2,
          83,
          32,
          9,
          39,
          9,
          22,
          5,
          6,
          67,
          4,
          5,
          8,
          1,
          28,
          1,
          31,
          13,
          1,
          25,
          307,
          1,
          24,
          1,
          1,
          33,
          1,
          1,
          23,
          2,
          8,
          304,
          13,
          4,
          4,
          19,
          29,
          2,
          7,
          35,
          5,
          21,
          7,
          2,
          27,
          2,
          3,
          12,
          3,
          2,
          5,
          41,
          7,
          1,
          5,
          1,
          1,
          1,
          22,
          3,
          39,
          36,
          7,
          11,
          13,
          1,
          30,
          15,
          1,
          6,
          12,
          3,
          8,
          51,
          5,
          15,
          43,
          4,
          1,
          19,
          3,
          2,
          3,
          26,
          12,
          7,
          5,
          16,
          4,
          629,
          22,
          31,
          2,
          1
         ]
        }
       ],
       "layout": {
        "geo": {
         "projection": {
          "type": "mercator"
         },
         "showcoastlines": false,
         "showframe": false
        },
        "height": 1000,
        "width": 1000
       }
      },
      "text/html": [
       "<div id=\"3b38b02c-d28f-4d67-9b1d-16348512bc1e\" style=\"height: 1000px; width: 1000px;\" class=\"plotly-graph-div\"></div><script type=\"text/javascript\">require([\"plotly\"], function(Plotly) { window.PLOTLYENV=window.PLOTLYENV || {};window.PLOTLYENV.BASE_URL=\"https://plot.ly\";Plotly.newPlot(\"3b38b02c-d28f-4d67-9b1d-16348512bc1e\", [{\"autocolorscale\": false, \"colorscale\": [[0, \"rgb(5, 10, 172)\"], [0.35, \"rgb(40, 60, 190)\"], [0.5, \"rgb(70, 100, 245)\"], [0.6, \"rgb(90, 120, 245)\"], [0.7, \"rgb(106, 137, 247)\"], [1, \"rgb(220, 220, 220)\"]], \"locations\": [\"AFG\", \"ALB\", \"ARE\", \"ARG\", \"AUS\", \"AUT\", \"AZE\", \"BEL\", \"BGD\", \"BIH\", \"BLR\", \"BLZ\", \"BRA\", \"BRN\", \"BWA\", \"CAN\", \"CHE\", \"CHL\", \"CHN\", \"CMR\", \"COL\", \"CRI\", \"CZE\", \"DEU\", \"DNK\", \"DOM\", \"DZA\", \"ECU\", \"EGY\", \"ERI\", \"ESP\", \"ETH\", \"FIN\", \"FRA\", \"GBR\", \"GEO\", \"GHA\", \"GIN\", \"GMB\", \"GRC\", \"GTM\", \"GUY\", \"HKG\", \"HUN\", \"IDN\", \"IND\", \"IRL\", \"IRQ\", \"ISL\", \"ISR\", \"ITA\", \"JAM\", \"JOR\", \"JPN\", \"KAZ\", \"KEN\", \"KGZ\", \"KHM\", \"KOR\", \"KWT\", \"LAO\", \"LBN\", \"LKA\", \"LSO\", \"MAR\", \"MEX\", \"MLI\", \"MLT\", \"MMR\", \"MNE\", \"MUS\", \"MWI\", \"MYS\", \"NAM\", \"NGA\", \"NLD\", \"NOR\", \"NPL\", \"NZL\", \"OMN\", \"PAK\", \"PER\", \"PHL\", \"POL\", \"PRT\", \"QAT\", \"ROU\", \"RUS\", \"RWA\", \"SAU\", \"SGP\", \"SOM\", \"SRB\", \"SWE\", \"THA\", \"TTO\", \"TUN\", \"TUR\", \"TWN\", \"TZA\", \"UGA\", \"UKR\", \"URY\", \"USA\", \"VNM\", \"ZAF\", \"ZMB\", \"ZWE\"], \"marker\": {\"line\": {\"color\": \"rgb(180,180,180)\", \"width\": 0.5}}, \"reversescale\": true, \"text\": [\"0.07\", \"0.2\", \"0.95\", \"0.95\", \"3.86\", \"0.75\", \"0.14\", \"1.56\", \"1.29\", \"0.2\", \"0.14\", \"0.07\", \"6.37\", \"0.41\", \"0.14\", \"5.62\", \"2.17\", \"0.61\", \"2.64\", \"0.61\", \"1.49\", \"0.34\", \"0.41\", \"4.54\", \"0.27\", \"0.34\", \"0.54\", \"0.07\", \"1.9\", \"0.07\", \"2.1\", \"0.88\", \"0.07\", \"1.69\", \"20.8\", \"0.07\", \"1.63\", \"0.07\", \"0.07\", \"2.24\", \"0.07\", \"0.07\", \"1.56\", \"0.14\", \"0.54\", \"20.6\", \"0.88\", \"0.27\", \"0.27\", \"1.29\", \"1.96\", \"0.14\", \"0.47\", \"2.37\", \"0.34\", \"1.42\", \"0.47\", \"0.14\", \"1.83\", \"0.14\", \"0.2\", \"0.81\", \"0.2\", \"0.14\", \"0.34\", \"2.78\", \"0.47\", \"0.07\", \"0.34\", \"0.07\", \"0.07\", \"0.07\", \"1.49\", \"0.2\", \"2.64\", \"2.44\", \"0.47\", \"0.75\", \"0.88\", \"0.07\", \"2.03\", \"1.02\", \"0.07\", \"0.41\", \"0.81\", \"0.2\", \"0.54\", \"3.46\", \"0.34\", \"1.02\", \"2.91\", \"0.27\", \"0.07\", \"1.29\", \"0.2\", \"0.14\", \"0.2\", \"1.76\", \"0.81\", \"0.47\", \"0.34\", \"1.08\", \"0.27\", \"42.62\", \"1.49\", \"2.1\", \"0.14\", \"0.07\"], \"z\": [1, 3, 14, 14, 57, 11, 2, 23, 19, 3, 2, 1, 94, 6, 2, 83, 32, 9, 39, 9, 22, 5, 6, 67, 4, 5, 8, 1, 28, 1, 31, 13, 1, 25, 307, 1, 24, 1, 1, 33, 1, 1, 23, 2, 8, 304, 13, 4, 4, 19, 29, 2, 7, 35, 5, 21, 7, 2, 27, 2, 3, 12, 3, 2, 5, 41, 7, 1, 5, 1, 1, 1, 22, 3, 39, 36, 7, 11, 13, 1, 30, 15, 1, 6, 12, 3, 8, 51, 5, 15, 43, 4, 1, 19, 3, 2, 3, 26, 12, 7, 5, 16, 4, 629, 22, 31, 2, 1], \"type\": \"choropleth\", \"uid\": \"5a7a0e08-4fda-11e9-95af-b4b68690f880\"}], {\"geo\": {\"projection\": {\"type\": \"mercator\"}, \"showcoastlines\": false, \"showframe\": false}, \"height\": 1000, \"width\": 1000}, {\"showLink\": true, \"linkText\": \"Export to plot.ly\"})});</script>"
      ],
      "text/vnd.plotly.v1+html": [
       "<div id=\"3b38b02c-d28f-4d67-9b1d-16348512bc1e\" style=\"height: 1000px; width: 1000px;\" class=\"plotly-graph-div\"></div><script type=\"text/javascript\">require([\"plotly\"], function(Plotly) { window.PLOTLYENV=window.PLOTLYENV || {};window.PLOTLYENV.BASE_URL=\"https://plot.ly\";Plotly.newPlot(\"3b38b02c-d28f-4d67-9b1d-16348512bc1e\", [{\"autocolorscale\": false, \"colorscale\": [[0, \"rgb(5, 10, 172)\"], [0.35, \"rgb(40, 60, 190)\"], [0.5, \"rgb(70, 100, 245)\"], [0.6, \"rgb(90, 120, 245)\"], [0.7, \"rgb(106, 137, 247)\"], [1, \"rgb(220, 220, 220)\"]], \"locations\": [\"AFG\", \"ALB\", \"ARE\", \"ARG\", \"AUS\", \"AUT\", \"AZE\", \"BEL\", \"BGD\", \"BIH\", \"BLR\", \"BLZ\", \"BRA\", \"BRN\", \"BWA\", \"CAN\", \"CHE\", \"CHL\", \"CHN\", \"CMR\", \"COL\", \"CRI\", \"CZE\", \"DEU\", \"DNK\", \"DOM\", \"DZA\", \"ECU\", \"EGY\", \"ERI\", \"ESP\", \"ETH\", \"FIN\", \"FRA\", \"GBR\", \"GEO\", \"GHA\", \"GIN\", \"GMB\", \"GRC\", \"GTM\", \"GUY\", \"HKG\", \"HUN\", \"IDN\", \"IND\", \"IRL\", \"IRQ\", \"ISL\", \"ISR\", \"ITA\", \"JAM\", \"JOR\", \"JPN\", \"KAZ\", \"KEN\", \"KGZ\", \"KHM\", \"KOR\", \"KWT\", \"LAO\", \"LBN\", \"LKA\", \"LSO\", \"MAR\", \"MEX\", \"MLI\", \"MLT\", \"MMR\", \"MNE\", \"MUS\", \"MWI\", \"MYS\", \"NAM\", \"NGA\", \"NLD\", \"NOR\", \"NPL\", \"NZL\", \"OMN\", \"PAK\", \"PER\", \"PHL\", \"POL\", \"PRT\", \"QAT\", \"ROU\", \"RUS\", \"RWA\", \"SAU\", \"SGP\", \"SOM\", \"SRB\", \"SWE\", \"THA\", \"TTO\", \"TUN\", \"TUR\", \"TWN\", \"TZA\", \"UGA\", \"UKR\", \"URY\", \"USA\", \"VNM\", \"ZAF\", \"ZMB\", \"ZWE\"], \"marker\": {\"line\": {\"color\": \"rgb(180,180,180)\", \"width\": 0.5}}, \"reversescale\": true, \"text\": [\"0.07\", \"0.2\", \"0.95\", \"0.95\", \"3.86\", \"0.75\", \"0.14\", \"1.56\", \"1.29\", \"0.2\", \"0.14\", \"0.07\", \"6.37\", \"0.41\", \"0.14\", \"5.62\", \"2.17\", \"0.61\", \"2.64\", \"0.61\", \"1.49\", \"0.34\", \"0.41\", \"4.54\", \"0.27\", \"0.34\", \"0.54\", \"0.07\", \"1.9\", \"0.07\", \"2.1\", \"0.88\", \"0.07\", \"1.69\", \"20.8\", \"0.07\", \"1.63\", \"0.07\", \"0.07\", \"2.24\", \"0.07\", \"0.07\", \"1.56\", \"0.14\", \"0.54\", \"20.6\", \"0.88\", \"0.27\", \"0.27\", \"1.29\", \"1.96\", \"0.14\", \"0.47\", \"2.37\", \"0.34\", \"1.42\", \"0.47\", \"0.14\", \"1.83\", \"0.14\", \"0.2\", \"0.81\", \"0.2\", \"0.14\", \"0.34\", \"2.78\", \"0.47\", \"0.07\", \"0.34\", \"0.07\", \"0.07\", \"0.07\", \"1.49\", \"0.2\", \"2.64\", \"2.44\", \"0.47\", \"0.75\", \"0.88\", \"0.07\", \"2.03\", \"1.02\", \"0.07\", \"0.41\", \"0.81\", \"0.2\", \"0.54\", \"3.46\", \"0.34\", \"1.02\", \"2.91\", \"0.27\", \"0.07\", \"1.29\", \"0.2\", \"0.14\", \"0.2\", \"1.76\", \"0.81\", \"0.47\", \"0.34\", \"1.08\", \"0.27\", \"42.62\", \"1.49\", \"2.1\", \"0.14\", \"0.07\"], \"z\": [1, 3, 14, 14, 57, 11, 2, 23, 19, 3, 2, 1, 94, 6, 2, 83, 32, 9, 39, 9, 22, 5, 6, 67, 4, 5, 8, 1, 28, 1, 31, 13, 1, 25, 307, 1, 24, 1, 1, 33, 1, 1, 23, 2, 8, 304, 13, 4, 4, 19, 29, 2, 7, 35, 5, 21, 7, 2, 27, 2, 3, 12, 3, 2, 5, 41, 7, 1, 5, 1, 1, 1, 22, 3, 39, 36, 7, 11, 13, 1, 30, 15, 1, 6, 12, 3, 8, 51, 5, 15, 43, 4, 1, 19, 3, 2, 3, 26, 12, 7, 5, 16, 4, 629, 22, 31, 2, 1], \"type\": \"choropleth\", \"uid\": \"5a7a0e08-4fda-11e9-95af-b4b68690f880\"}], {\"geo\": {\"projection\": {\"type\": \"mercator\"}, \"showcoastlines\": false, \"showframe\": false}, \"height\": 1000, \"width\": 1000}, {\"showLink\": true, \"linkText\": \"Export to plot.ly\"})});</script>"
      ]
     },
     "metadata": {},
     "output_type": "display_data"
    }
   ],
   "source": [
    "countries (GMPHusers, 'imperial_user_id', GMPHtotal)"
   ]
  },
  {
   "cell_type": "code",
   "execution_count": null,
   "metadata": {
    "extensions": {
     "jupyter_dashboards": {
      "version": 1,
      "views": {
       "grid_default": {},
       "report_default": {
        "hidden": true
       }
      }
     }
    }
   },
   "outputs": [],
   "source": []
  }
 ],
 "metadata": {
  "extensions": {
   "jupyter_dashboards": {
    "activeView": "report_default",
    "version": 1,
    "views": {
     "grid_default": {
      "cellMargin": 10,
      "defaultCellHeight": 20,
      "maxColumns": 12,
      "name": "grid",
      "type": "grid"
     },
     "report_default": {
      "name": "report",
      "type": "report"
     }
    }
   }
  },
  "kernelspec": {
   "display_name": "Python 3",
   "language": "python",
   "name": "python3"
  },
  "language_info": {
   "codemirror_mode": {
    "name": "ipython",
    "version": 3
   },
   "file_extension": ".py",
   "mimetype": "text/x-python",
   "name": "python",
   "nbconvert_exporter": "python",
   "pygments_lexer": "ipython3",
   "version": "3.6.4"
  }
 },
 "nbformat": 4,
 "nbformat_minor": 2
}
